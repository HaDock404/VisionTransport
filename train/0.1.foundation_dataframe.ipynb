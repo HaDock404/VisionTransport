{
 "cells": [
  {
   "cell_type": "code",
   "execution_count": 11,
   "metadata": {},
   "outputs": [],
   "source": [
    "import numpy as np\n",
    "import json\n",
    "from PIL import Image, ImageDraw\n",
    "import os\n",
    "import pandas as pd\n",
    "pd.set_option('display.max_colwidth', None)"
   ]
  },
  {
   "cell_type": "code",
   "execution_count": 12,
   "metadata": {},
   "outputs": [],
   "source": [
    "# récupération des chemins des images dans les différents dossier\n",
    "train_image_dir = \"./Data/files/Cityscapes_leftImg8bit_trainvaltest/leftImg8bit/train\"\n",
    "\n",
    "image_paths_train = []\n",
    "\n",
    "for i in os.listdir(train_image_dir):\n",
    "    folder_path = os.path.join(train_image_dir, i)\n",
    "    if i != '.DS_Store':\n",
    "        for j in os.listdir(folder_path):\n",
    "            file_path = os.path.join(folder_path, j)\n",
    "            image_paths_train.append(file_path)"
   ]
  },
  {
   "cell_type": "code",
   "execution_count": 13,
   "metadata": {},
   "outputs": [],
   "source": [
    "train_label_dir = \"./Data/masks\"\n",
    "\n",
    "label_paths_train = []\n",
    "\n",
    "for i in os.listdir(train_label_dir):\n",
    "    folder_path = os.path.join(train_label_dir, i)\n",
    "    if i != '.DS_Store':\n",
    "        label_paths_train.append(folder_path)"
   ]
  },
  {
   "cell_type": "code",
   "execution_count": 14,
   "metadata": {},
   "outputs": [],
   "source": [
    "df_image_paths_train = pd.DataFrame({\"Index\": \"\", \"Image_Path\": image_paths_train})\n",
    "df_label_paths_train = pd.DataFrame({\"Index\": \"\", \"Target_Path\": label_paths_train})"
   ]
  },
  {
   "cell_type": "code",
   "execution_count": 15,
   "metadata": {},
   "outputs": [
    {
     "name": "stdout",
     "output_type": "stream",
     "text": [
      "2975\n",
      "2975\n"
     ]
    }
   ],
   "source": [
    "print(len(df_image_paths_train))# X\n",
    "print(len(df_label_paths_train))# y"
   ]
  },
  {
   "cell_type": "code",
   "execution_count": 16,
   "metadata": {},
   "outputs": [],
   "source": [
    "index_tab = []\n",
    "for el in df_image_paths_train['Image_Path']:\n",
    "    file_name = os.path.splitext(os.path.basename(el))[0]\n",
    "    file_name = file_name.replace(\"_leftImg8bit\", \"\")\n",
    "    index_tab.append(file_name)\n",
    "df_image_paths_train['Index'] = index_tab"
   ]
  },
  {
   "cell_type": "code",
   "execution_count": 17,
   "metadata": {},
   "outputs": [],
   "source": [
    "index_tab = []\n",
    "for el in df_label_paths_train['Target_Path']:\n",
    "    file_name = os.path.splitext(os.path.basename(el))[0]\n",
    "    index_tab.append(file_name)\n",
    "df_label_paths_train['Index'] = index_tab"
   ]
  },
  {
   "cell_type": "code",
   "execution_count": 18,
   "metadata": {},
   "outputs": [
    {
     "data": {
      "text/html": [
       "<div>\n",
       "<style scoped>\n",
       "    .dataframe tbody tr th:only-of-type {\n",
       "        vertical-align: middle;\n",
       "    }\n",
       "\n",
       "    .dataframe tbody tr th {\n",
       "        vertical-align: top;\n",
       "    }\n",
       "\n",
       "    .dataframe thead th {\n",
       "        text-align: right;\n",
       "    }\n",
       "</style>\n",
       "<table border=\"1\" class=\"dataframe\">\n",
       "  <thead>\n",
       "    <tr style=\"text-align: right;\">\n",
       "      <th></th>\n",
       "      <th>Index</th>\n",
       "      <th>Image_Path</th>\n",
       "      <th>Target_Path</th>\n",
       "    </tr>\n",
       "  </thead>\n",
       "  <tbody>\n",
       "    <tr>\n",
       "      <th>0</th>\n",
       "      <td>zurich_000069_000019</td>\n",
       "      <td>./Data/files/Cityscapes_leftImg8bit_trainvaltest/leftImg8bit/train/zurich/zurich_000069_000019_leftImg8bit.png</td>\n",
       "      <td>./Data/masks/zurich_000069_000019.png</td>\n",
       "    </tr>\n",
       "    <tr>\n",
       "      <th>1</th>\n",
       "      <td>zurich_000063_000019</td>\n",
       "      <td>./Data/files/Cityscapes_leftImg8bit_trainvaltest/leftImg8bit/train/zurich/zurich_000063_000019_leftImg8bit.png</td>\n",
       "      <td>./Data/masks/zurich_000063_000019.png</td>\n",
       "    </tr>\n",
       "    <tr>\n",
       "      <th>2</th>\n",
       "      <td>zurich_000110_000019</td>\n",
       "      <td>./Data/files/Cityscapes_leftImg8bit_trainvaltest/leftImg8bit/train/zurich/zurich_000110_000019_leftImg8bit.png</td>\n",
       "      <td>./Data/masks/zurich_000110_000019.png</td>\n",
       "    </tr>\n",
       "    <tr>\n",
       "      <th>3</th>\n",
       "      <td>zurich_000016_000019</td>\n",
       "      <td>./Data/files/Cityscapes_leftImg8bit_trainvaltest/leftImg8bit/train/zurich/zurich_000016_000019_leftImg8bit.png</td>\n",
       "      <td>./Data/masks/zurich_000016_000019.png</td>\n",
       "    </tr>\n",
       "    <tr>\n",
       "      <th>4</th>\n",
       "      <td>zurich_000027_000019</td>\n",
       "      <td>./Data/files/Cityscapes_leftImg8bit_trainvaltest/leftImg8bit/train/zurich/zurich_000027_000019_leftImg8bit.png</td>\n",
       "      <td>./Data/masks/zurich_000027_000019.png</td>\n",
       "    </tr>\n",
       "    <tr>\n",
       "      <th>...</th>\n",
       "      <td>...</td>\n",
       "      <td>...</td>\n",
       "      <td>...</td>\n",
       "    </tr>\n",
       "    <tr>\n",
       "      <th>2970</th>\n",
       "      <td>bremen_000093_000019</td>\n",
       "      <td>./Data/files/Cityscapes_leftImg8bit_trainvaltest/leftImg8bit/train/bremen/bremen_000093_000019_leftImg8bit.png</td>\n",
       "      <td>./Data/masks/bremen_000093_000019.png</td>\n",
       "    </tr>\n",
       "    <tr>\n",
       "      <th>2971</th>\n",
       "      <td>bremen_000275_000019</td>\n",
       "      <td>./Data/files/Cityscapes_leftImg8bit_trainvaltest/leftImg8bit/train/bremen/bremen_000275_000019_leftImg8bit.png</td>\n",
       "      <td>./Data/masks/bremen_000275_000019.png</td>\n",
       "    </tr>\n",
       "    <tr>\n",
       "      <th>2972</th>\n",
       "      <td>bremen_000306_000019</td>\n",
       "      <td>./Data/files/Cityscapes_leftImg8bit_trainvaltest/leftImg8bit/train/bremen/bremen_000306_000019_leftImg8bit.png</td>\n",
       "      <td>./Data/masks/bremen_000306_000019.png</td>\n",
       "    </tr>\n",
       "    <tr>\n",
       "      <th>2973</th>\n",
       "      <td>bremen_000058_000019</td>\n",
       "      <td>./Data/files/Cityscapes_leftImg8bit_trainvaltest/leftImg8bit/train/bremen/bremen_000058_000019_leftImg8bit.png</td>\n",
       "      <td>./Data/masks/bremen_000058_000019.png</td>\n",
       "    </tr>\n",
       "    <tr>\n",
       "      <th>2974</th>\n",
       "      <td>bremen_000099_000019</td>\n",
       "      <td>./Data/files/Cityscapes_leftImg8bit_trainvaltest/leftImg8bit/train/bremen/bremen_000099_000019_leftImg8bit.png</td>\n",
       "      <td>./Data/masks/bremen_000099_000019.png</td>\n",
       "    </tr>\n",
       "  </tbody>\n",
       "</table>\n",
       "<p>2975 rows × 3 columns</p>\n",
       "</div>"
      ],
      "text/plain": [
       "                     Index  \\\n",
       "0     zurich_000069_000019   \n",
       "1     zurich_000063_000019   \n",
       "2     zurich_000110_000019   \n",
       "3     zurich_000016_000019   \n",
       "4     zurich_000027_000019   \n",
       "...                    ...   \n",
       "2970  bremen_000093_000019   \n",
       "2971  bremen_000275_000019   \n",
       "2972  bremen_000306_000019   \n",
       "2973  bremen_000058_000019   \n",
       "2974  bremen_000099_000019   \n",
       "\n",
       "                                                                                                          Image_Path  \\\n",
       "0     ./Data/files/Cityscapes_leftImg8bit_trainvaltest/leftImg8bit/train/zurich/zurich_000069_000019_leftImg8bit.png   \n",
       "1     ./Data/files/Cityscapes_leftImg8bit_trainvaltest/leftImg8bit/train/zurich/zurich_000063_000019_leftImg8bit.png   \n",
       "2     ./Data/files/Cityscapes_leftImg8bit_trainvaltest/leftImg8bit/train/zurich/zurich_000110_000019_leftImg8bit.png   \n",
       "3     ./Data/files/Cityscapes_leftImg8bit_trainvaltest/leftImg8bit/train/zurich/zurich_000016_000019_leftImg8bit.png   \n",
       "4     ./Data/files/Cityscapes_leftImg8bit_trainvaltest/leftImg8bit/train/zurich/zurich_000027_000019_leftImg8bit.png   \n",
       "...                                                                                                              ...   \n",
       "2970  ./Data/files/Cityscapes_leftImg8bit_trainvaltest/leftImg8bit/train/bremen/bremen_000093_000019_leftImg8bit.png   \n",
       "2971  ./Data/files/Cityscapes_leftImg8bit_trainvaltest/leftImg8bit/train/bremen/bremen_000275_000019_leftImg8bit.png   \n",
       "2972  ./Data/files/Cityscapes_leftImg8bit_trainvaltest/leftImg8bit/train/bremen/bremen_000306_000019_leftImg8bit.png   \n",
       "2973  ./Data/files/Cityscapes_leftImg8bit_trainvaltest/leftImg8bit/train/bremen/bremen_000058_000019_leftImg8bit.png   \n",
       "2974  ./Data/files/Cityscapes_leftImg8bit_trainvaltest/leftImg8bit/train/bremen/bremen_000099_000019_leftImg8bit.png   \n",
       "\n",
       "                                Target_Path  \n",
       "0     ./Data/masks/zurich_000069_000019.png  \n",
       "1     ./Data/masks/zurich_000063_000019.png  \n",
       "2     ./Data/masks/zurich_000110_000019.png  \n",
       "3     ./Data/masks/zurich_000016_000019.png  \n",
       "4     ./Data/masks/zurich_000027_000019.png  \n",
       "...                                     ...  \n",
       "2970  ./Data/masks/bremen_000093_000019.png  \n",
       "2971  ./Data/masks/bremen_000275_000019.png  \n",
       "2972  ./Data/masks/bremen_000306_000019.png  \n",
       "2973  ./Data/masks/bremen_000058_000019.png  \n",
       "2974  ./Data/masks/bremen_000099_000019.png  \n",
       "\n",
       "[2975 rows x 3 columns]"
      ]
     },
     "execution_count": 18,
     "metadata": {},
     "output_type": "execute_result"
    }
   ],
   "source": [
    "df_train = pd.merge(df_image_paths_train, df_label_paths_train, on='Index', how='left')\n",
    "df_train"
   ]
  },
  {
   "cell_type": "code",
   "execution_count": 21,
   "metadata": {},
   "outputs": [],
   "source": [
    "val_image_dir = \"./Data/files/Cityscapes_leftImg8bit_trainvaltest/leftImg8bit/val\"\n",
    "\n",
    "image_paths_val = []\n",
    "\n",
    "for i in os.listdir(val_image_dir):\n",
    "    folder_path = os.path.join(val_image_dir, i)\n",
    "    if i != '.DS_Store':\n",
    "        for j in os.listdir(folder_path):\n",
    "            file_path = os.path.join(folder_path, j)\n",
    "            image_paths_val.append(file_path)"
   ]
  },
  {
   "cell_type": "code",
   "execution_count": 22,
   "metadata": {},
   "outputs": [],
   "source": [
    "val_label_dir = \"./Data/masks_val\"\n",
    "\n",
    "label_paths_val = []\n",
    "\n",
    "for i in os.listdir(val_label_dir):\n",
    "    folder_path = os.path.join(val_label_dir, i)\n",
    "    if i != '.DS_Store':\n",
    "        label_paths_val.append(folder_path)"
   ]
  },
  {
   "cell_type": "code",
   "execution_count": 23,
   "metadata": {},
   "outputs": [],
   "source": [
    "df_image_paths_val = pd.DataFrame({\"Index\": \"\", \"Image_Path\": image_paths_val})\n",
    "df_label_paths_val = pd.DataFrame({\"Index\": \"\", \"Target_Path\": label_paths_val})"
   ]
  },
  {
   "cell_type": "code",
   "execution_count": 24,
   "metadata": {},
   "outputs": [
    {
     "name": "stdout",
     "output_type": "stream",
     "text": [
      "500\n",
      "500\n"
     ]
    }
   ],
   "source": [
    "print(len(df_image_paths_val))# X\n",
    "print(len(df_label_paths_val))# y"
   ]
  },
  {
   "cell_type": "code",
   "execution_count": 25,
   "metadata": {},
   "outputs": [],
   "source": [
    "index_tab = []\n",
    "for el in df_image_paths_val['Image_Path']:\n",
    "    file_name = os.path.splitext(os.path.basename(el))[0]\n",
    "    file_name = file_name.replace(\"_leftImg8bit\", \"\")\n",
    "    index_tab.append(file_name)\n",
    "df_image_paths_val['Index'] = index_tab"
   ]
  },
  {
   "cell_type": "code",
   "execution_count": 26,
   "metadata": {},
   "outputs": [],
   "source": [
    "index_tab = []\n",
    "for el in df_label_paths_val['Target_Path']:\n",
    "    file_name = os.path.splitext(os.path.basename(el))[0]\n",
    "    index_tab.append(file_name)\n",
    "df_label_paths_val['Index'] = index_tab"
   ]
  },
  {
   "cell_type": "code",
   "execution_count": 27,
   "metadata": {},
   "outputs": [
    {
     "data": {
      "text/html": [
       "<div>\n",
       "<style scoped>\n",
       "    .dataframe tbody tr th:only-of-type {\n",
       "        vertical-align: middle;\n",
       "    }\n",
       "\n",
       "    .dataframe tbody tr th {\n",
       "        vertical-align: top;\n",
       "    }\n",
       "\n",
       "    .dataframe thead th {\n",
       "        text-align: right;\n",
       "    }\n",
       "</style>\n",
       "<table border=\"1\" class=\"dataframe\">\n",
       "  <thead>\n",
       "    <tr style=\"text-align: right;\">\n",
       "      <th></th>\n",
       "      <th>Index</th>\n",
       "      <th>Image_Path</th>\n",
       "      <th>Target_Path</th>\n",
       "    </tr>\n",
       "  </thead>\n",
       "  <tbody>\n",
       "    <tr>\n",
       "      <th>0</th>\n",
       "      <td>munster_000025_000019</td>\n",
       "      <td>./Data/files/Cityscapes_leftImg8bit_trainvaltest/leftImg8bit/val/munster/munster_000025_000019_leftImg8bit.png</td>\n",
       "      <td>./Data/masks_val/munster_000025_000019.png</td>\n",
       "    </tr>\n",
       "    <tr>\n",
       "      <th>1</th>\n",
       "      <td>munster_000156_000019</td>\n",
       "      <td>./Data/files/Cityscapes_leftImg8bit_trainvaltest/leftImg8bit/val/munster/munster_000156_000019_leftImg8bit.png</td>\n",
       "      <td>./Data/masks_val/munster_000156_000019.png</td>\n",
       "    </tr>\n",
       "    <tr>\n",
       "      <th>2</th>\n",
       "      <td>munster_000050_000019</td>\n",
       "      <td>./Data/files/Cityscapes_leftImg8bit_trainvaltest/leftImg8bit/val/munster/munster_000050_000019_leftImg8bit.png</td>\n",
       "      <td>./Data/masks_val/munster_000050_000019.png</td>\n",
       "    </tr>\n",
       "    <tr>\n",
       "      <th>3</th>\n",
       "      <td>munster_000123_000019</td>\n",
       "      <td>./Data/files/Cityscapes_leftImg8bit_trainvaltest/leftImg8bit/val/munster/munster_000123_000019_leftImg8bit.png</td>\n",
       "      <td>./Data/masks_val/munster_000123_000019.png</td>\n",
       "    </tr>\n",
       "    <tr>\n",
       "      <th>4</th>\n",
       "      <td>munster_000091_000019</td>\n",
       "      <td>./Data/files/Cityscapes_leftImg8bit_trainvaltest/leftImg8bit/val/munster/munster_000091_000019_leftImg8bit.png</td>\n",
       "      <td>./Data/masks_val/munster_000091_000019.png</td>\n",
       "    </tr>\n",
       "    <tr>\n",
       "      <th>...</th>\n",
       "      <td>...</td>\n",
       "      <td>...</td>\n",
       "      <td>...</td>\n",
       "    </tr>\n",
       "    <tr>\n",
       "      <th>495</th>\n",
       "      <td>frankfurt_000001_037705</td>\n",
       "      <td>./Data/files/Cityscapes_leftImg8bit_trainvaltest/leftImg8bit/val/frankfurt/frankfurt_000001_037705_leftImg8bit.png</td>\n",
       "      <td>./Data/masks_val/frankfurt_000001_037705.png</td>\n",
       "    </tr>\n",
       "    <tr>\n",
       "      <th>496</th>\n",
       "      <td>frankfurt_000000_014480</td>\n",
       "      <td>./Data/files/Cityscapes_leftImg8bit_trainvaltest/leftImg8bit/val/frankfurt/frankfurt_000000_014480_leftImg8bit.png</td>\n",
       "      <td>./Data/masks_val/frankfurt_000000_014480.png</td>\n",
       "    </tr>\n",
       "    <tr>\n",
       "      <th>497</th>\n",
       "      <td>frankfurt_000001_051807</td>\n",
       "      <td>./Data/files/Cityscapes_leftImg8bit_trainvaltest/leftImg8bit/val/frankfurt/frankfurt_000001_051807_leftImg8bit.png</td>\n",
       "      <td>./Data/masks_val/frankfurt_000001_051807.png</td>\n",
       "    </tr>\n",
       "    <tr>\n",
       "      <th>498</th>\n",
       "      <td>frankfurt_000001_066574</td>\n",
       "      <td>./Data/files/Cityscapes_leftImg8bit_trainvaltest/leftImg8bit/val/frankfurt/frankfurt_000001_066574_leftImg8bit.png</td>\n",
       "      <td>./Data/masks_val/frankfurt_000001_066574.png</td>\n",
       "    </tr>\n",
       "    <tr>\n",
       "      <th>499</th>\n",
       "      <td>frankfurt_000000_000294</td>\n",
       "      <td>./Data/files/Cityscapes_leftImg8bit_trainvaltest/leftImg8bit/val/frankfurt/frankfurt_000000_000294_leftImg8bit.png</td>\n",
       "      <td>./Data/masks_val/frankfurt_000000_000294.png</td>\n",
       "    </tr>\n",
       "  </tbody>\n",
       "</table>\n",
       "<p>500 rows × 3 columns</p>\n",
       "</div>"
      ],
      "text/plain": [
       "                       Index  \\\n",
       "0      munster_000025_000019   \n",
       "1      munster_000156_000019   \n",
       "2      munster_000050_000019   \n",
       "3      munster_000123_000019   \n",
       "4      munster_000091_000019   \n",
       "..                       ...   \n",
       "495  frankfurt_000001_037705   \n",
       "496  frankfurt_000000_014480   \n",
       "497  frankfurt_000001_051807   \n",
       "498  frankfurt_000001_066574   \n",
       "499  frankfurt_000000_000294   \n",
       "\n",
       "                                                                                                             Image_Path  \\\n",
       "0        ./Data/files/Cityscapes_leftImg8bit_trainvaltest/leftImg8bit/val/munster/munster_000025_000019_leftImg8bit.png   \n",
       "1        ./Data/files/Cityscapes_leftImg8bit_trainvaltest/leftImg8bit/val/munster/munster_000156_000019_leftImg8bit.png   \n",
       "2        ./Data/files/Cityscapes_leftImg8bit_trainvaltest/leftImg8bit/val/munster/munster_000050_000019_leftImg8bit.png   \n",
       "3        ./Data/files/Cityscapes_leftImg8bit_trainvaltest/leftImg8bit/val/munster/munster_000123_000019_leftImg8bit.png   \n",
       "4        ./Data/files/Cityscapes_leftImg8bit_trainvaltest/leftImg8bit/val/munster/munster_000091_000019_leftImg8bit.png   \n",
       "..                                                                                                                  ...   \n",
       "495  ./Data/files/Cityscapes_leftImg8bit_trainvaltest/leftImg8bit/val/frankfurt/frankfurt_000001_037705_leftImg8bit.png   \n",
       "496  ./Data/files/Cityscapes_leftImg8bit_trainvaltest/leftImg8bit/val/frankfurt/frankfurt_000000_014480_leftImg8bit.png   \n",
       "497  ./Data/files/Cityscapes_leftImg8bit_trainvaltest/leftImg8bit/val/frankfurt/frankfurt_000001_051807_leftImg8bit.png   \n",
       "498  ./Data/files/Cityscapes_leftImg8bit_trainvaltest/leftImg8bit/val/frankfurt/frankfurt_000001_066574_leftImg8bit.png   \n",
       "499  ./Data/files/Cityscapes_leftImg8bit_trainvaltest/leftImg8bit/val/frankfurt/frankfurt_000000_000294_leftImg8bit.png   \n",
       "\n",
       "                                      Target_Path  \n",
       "0      ./Data/masks_val/munster_000025_000019.png  \n",
       "1      ./Data/masks_val/munster_000156_000019.png  \n",
       "2      ./Data/masks_val/munster_000050_000019.png  \n",
       "3      ./Data/masks_val/munster_000123_000019.png  \n",
       "4      ./Data/masks_val/munster_000091_000019.png  \n",
       "..                                            ...  \n",
       "495  ./Data/masks_val/frankfurt_000001_037705.png  \n",
       "496  ./Data/masks_val/frankfurt_000000_014480.png  \n",
       "497  ./Data/masks_val/frankfurt_000001_051807.png  \n",
       "498  ./Data/masks_val/frankfurt_000001_066574.png  \n",
       "499  ./Data/masks_val/frankfurt_000000_000294.png  \n",
       "\n",
       "[500 rows x 3 columns]"
      ]
     },
     "execution_count": 27,
     "metadata": {},
     "output_type": "execute_result"
    }
   ],
   "source": [
    "df_val = pd.merge(df_image_paths_val, df_label_paths_val, on='Index', how='left')\n",
    "df_val"
   ]
  },
  {
   "cell_type": "code",
   "execution_count": 28,
   "metadata": {},
   "outputs": [],
   "source": [
    "dataset = './Data/df_train.csv'\n",
    "df_train.to_csv(dataset, index=False)\n",
    "dataset = './Data/df_val.csv'\n",
    "df_val.to_csv(dataset, index=False)"
   ]
  },
  {
   "cell_type": "code",
   "execution_count": null,
   "metadata": {},
   "outputs": [],
   "source": []
  }
 ],
 "metadata": {
  "kernelspec": {
   "display_name": "VisionTransport",
   "language": "python",
   "name": "python3"
  },
  "language_info": {
   "codemirror_mode": {
    "name": "ipython",
    "version": 3
   },
   "file_extension": ".py",
   "mimetype": "text/x-python",
   "name": "python",
   "nbconvert_exporter": "python",
   "pygments_lexer": "ipython3",
   "version": "3.10.9"
  }
 },
 "nbformat": 4,
 "nbformat_minor": 2
}
