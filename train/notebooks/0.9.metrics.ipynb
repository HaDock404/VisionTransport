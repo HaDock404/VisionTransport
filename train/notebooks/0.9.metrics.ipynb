{
 "cells": [
  {
   "cell_type": "code",
   "execution_count": 1,
   "metadata": {},
   "outputs": [
    {
     "name": "stderr",
     "output_type": "stream",
     "text": [
      "2024-04-17 08:26:20.097838: I tensorflow/core/platform/cpu_feature_guard.cc:210] This TensorFlow binary is optimized to use available CPU instructions in performance-critical operations.\n",
      "To enable the following instructions: AVX2 FMA, in other operations, rebuild TensorFlow with the appropriate compiler flags.\n"
     ]
    }
   ],
   "source": [
    "from tensorflow.keras import backend as K  # type: ignore\n",
    "import tensorflow as tf # type: ignore\n",
    "import os\n",
    "os.environ['TF_CPP_MIN_LOG_LEVEL'] = '1' # delete alert message from Tensorflow\n",
    "from PIL import Image # type: ignore\n",
    "from tensorflow.keras.preprocessing.image import img_to_array  # type: ignore\n",
    "import numpy as np # type: ignore"
   ]
  },
  {
   "cell_type": "code",
   "execution_count": 2,
   "metadata": {},
   "outputs": [],
   "source": [
    "y_true_path = \"../Data/masks/aachen_000000_000019.png\"\n",
    "y_pred_path = \"../Data/masks/aachen_000000_000019.png\"\n",
    "\n",
    "y_true_path = \"../Example/U-net/masks/aachen_000010_000019.png\"\n",
    "y_pred_path = \"../Example/U-net/masks/aachen_000011_000019.png\""
   ]
  },
  {
   "cell_type": "code",
   "execution_count": 3,
   "metadata": {},
   "outputs": [],
   "source": [
    "def dice_coef(y_true, y_pred, smooth=1e-6):\n",
    "    y_true = K.cast(y_true, 'float32')\n",
    "    y_pred = K.cast(y_pred, 'float32')\n",
    "    \n",
    "    inputs = K.flatten(y_pred)\n",
    "    targets = K.flatten(y_true)\n",
    "\n",
    "    targets = K.expand_dims(targets, axis=-1)\n",
    "    inputs = K.expand_dims(inputs, axis=-1)\n",
    "\n",
    "    intersection = K.sum(targets * inputs)\n",
    "    return (2*intersection + smooth) / (K.sum(targets) + K.sum(inputs) + smooth)\n",
    "\n",
    "\n",
    "def dice_coeff_multiclass(y_pred, y_true):\n",
    "\n",
    "    num_class_pred = len(np.unique(y_pred))\n",
    "    num_class_true = len(np.unique(y_true))\n",
    "    if num_class_pred != num_class_true:\n",
    "        num_class = np.unique(y_true)\n",
    "    else :\n",
    "        num_class = np.unique(y_true)\n",
    "\n",
    "    el_unique = []\n",
    "    for el in num_class:\n",
    "        el_unique.append(el)\n",
    "\n",
    "    dice_mean = []\n",
    "\n",
    "    for value in el_unique:\n",
    "        binary_pred = np.copy(y_pred)\n",
    "        binary_pred[y_pred == value] = 0\n",
    "        binary_pred[y_pred != value] = 1\n",
    "\n",
    "        binary_true = np.copy(y_true)\n",
    "        binary_true[y_true == value] = 0\n",
    "        binary_true[y_true != value] = 1\n",
    "\n",
    "        dice_mean.append(dice_coef(binary_true, binary_pred).numpy())\n",
    "\n",
    "    return np.mean(dice_mean)\n"
   ]
  },
  {
   "cell_type": "code",
   "execution_count": 4,
   "metadata": {},
   "outputs": [],
   "source": [
    "def iou(y_true, y_pred, smooth=1e-6):\n",
    "    y_true = K.cast(y_true, 'float32')\n",
    "    y_pred = K.cast(y_pred, 'float32')\n",
    "\n",
    "    intersection = K.sum(K.abs(y_true * y_pred))\n",
    "    union = K.sum(y_true) + K.sum(y_pred) - intersection\n",
    "    return K.mean((intersection + smooth) / (union + smooth))\n",
    "\n",
    "\n",
    "def iou_multiclass(y_pred, y_true):\n",
    "    num_class_pred = len(np.unique(y_pred))\n",
    "    num_class_true = len(np.unique(y_true))\n",
    "    if num_class_pred != num_class_true:\n",
    "        num_class = np.unique(y_true)\n",
    "    else :\n",
    "        num_class = np.unique(y_true)\n",
    "\n",
    "    el_unique = []\n",
    "    for el in num_class:\n",
    "        el_unique.append(el)\n",
    "\n",
    "    dice_mean = []\n",
    "\n",
    "    for value in el_unique:\n",
    "        binary_pred = np.copy(y_pred)\n",
    "        binary_pred[y_pred == value] = 0\n",
    "        binary_pred[y_pred != value] = 1\n",
    "\n",
    "        binary_true = np.copy(y_true)\n",
    "        binary_true[y_true == value] = 0\n",
    "        binary_true[y_true != value] = 1\n",
    "\n",
    "        dice_mean.append(iou(binary_true, binary_pred).numpy())\n",
    "\n",
    "    return np.mean(dice_mean)\n"
   ]
  },
  {
   "cell_type": "code",
   "execution_count": 5,
   "metadata": {},
   "outputs": [],
   "source": [
    "input_shape = (256, 256, 3)\n",
    "\n",
    "def transform_img(y_path):\n",
    "    y_value = img_to_array(Image.open(y_path).resize(input_shape[:2], Image.NEAREST))\n",
    "    y_value = y_value.astype(np.uint8)\n",
    "    for x in range(y_value.shape[0]):\n",
    "            for y in range(y_value.shape[1]):\n",
    "                if (y_value[x, y] == [250, 170, 30]).all():\n",
    "                    y_value[x, y] = 0\n",
    "                elif (y_value[x, y] == [0, 0, 142]).all():\n",
    "                    y_value[x, y] = 1\n",
    "                elif (y_value[x, y] == [102, 102, 156]).all():\n",
    "                    y_value[x, y] = 2\n",
    "                elif (y_value[x, y] == [220, 20, 60]).all():\n",
    "                    y_value[x, y] = 3\n",
    "                elif (y_value[x, y] == [153, 153, 153]).all():\n",
    "                    y_value[x, y] = 4\n",
    "                elif (y_value[x, y] == [244, 35, 232]).all():\n",
    "                    y_value[x, y] = 5\n",
    "                elif (y_value[x, y] == [70, 70, 70]).all():\n",
    "                    y_value[x, y] = 6\n",
    "                elif (y_value[x, y] == [70, 130, 180]).all():\n",
    "                    y_value[x, y] = 7\n",
    "    y_value = y_value[:, :, 0:1]\n",
    "    return y_value\n",
    "\n",
    "y_true = transform_img(y_true_path)\n",
    "y_pred = transform_img(y_pred_path)"
   ]
  },
  {
   "cell_type": "code",
   "execution_count": 6,
   "metadata": {},
   "outputs": [
    {
     "name": "stdout",
     "output_type": "stream",
     "text": [
      "Dice coef:  0.92816293\n",
      "Iou:  0.8722116\n"
     ]
    }
   ],
   "source": [
    "print(\"Dice coef: \", dice_coeff_multiclass(y_pred, y_true))\n",
    "print(\"Iou: \", iou_multiclass(y_pred, y_true))"
   ]
  },
  {
   "cell_type": "code",
   "execution_count": null,
   "metadata": {},
   "outputs": [],
   "source": []
  }
 ],
 "metadata": {
  "kernelspec": {
   "display_name": "VisionTransport",
   "language": "python",
   "name": "python3"
  },
  "language_info": {
   "codemirror_mode": {
    "name": "ipython",
    "version": 3
   },
   "file_extension": ".py",
   "mimetype": "text/x-python",
   "name": "python",
   "nbconvert_exporter": "python",
   "pygments_lexer": "ipython3",
   "version": "3.10.9"
  }
 },
 "nbformat": 4,
 "nbformat_minor": 2
}
