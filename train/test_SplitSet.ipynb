{
 "cells": [
  {
   "cell_type": "markdown",
   "metadata": {},
   "source": [
    "```bash\n",
    "from datasets import Dataset, DatasetDict, Image\n",
    "\n",
    "image_paths_train = [\"path/to/image_1.jpg/jpg\", \"path/to/image_2.jpg/jpg\", ..., \"path/to/image_n.jpg/jpg\"]\n",
    "label_paths_train = [\"path/to/annotation_1.png\", \"path/to/annotation_2.png\", ..., \"path/to/annotation_n.png\"]\n",
    "\n",
    "image_paths_validation = [\"path/to/image_1.jpg/jpg\", \"path/to/image_2.jpg/jpg\", ..., \"path/to/image_n.jpg/jpg\"]\n",
    "label_paths_validation = [\"path/to/annotation_1.png\", \"path/to/annotation_2.png\", ..., \"path/to/annotation_n.png\"]\n",
    "\n",
    "def create_dataset(image_paths, label_paths):\n",
    "    dataset = Dataset.from_dict({\"image\": sorted(image_paths),\n",
    "                                \"label\": sorted(label_paths)})\n",
    "    dataset = dataset.cast_column(\"image\", Image())\n",
    "    dataset = dataset.cast_column(\"label\", Image())\n",
    "    return dataset\n",
    "\n",
    "train_dataset = create_dataset(image_paths_train, label_paths_train)\n",
    "validation_dataset = create_dataset(image_paths_validation, label_paths_validation)\n",
    "```\n"
   ]
  },
  {
   "cell_type": "code",
   "execution_count": 142,
   "metadata": {},
   "outputs": [],
   "source": [
    "import os\n",
    "import pandas as pd"
   ]
  },
  {
   "cell_type": "code",
   "execution_count": 143,
   "metadata": {},
   "outputs": [],
   "source": [
    "# récupération des chemins des images dans les différents dossier\n",
    "train_image_dir = \"./Data/files/Cityscapes_leftImg8bit_trainvaltest/leftImg8bit/train\"\n",
    "\n",
    "image_paths_train = []\n",
    "\n",
    "for i in os.listdir(train_image_dir):\n",
    "    folder_path = os.path.join(train_image_dir, i)\n",
    "    if i != '.DS_Store':\n",
    "        for j in os.listdir(folder_path):\n",
    "            file_path = os.path.join(folder_path, j)\n",
    "            image_paths_train.append(file_path)\n",
    "\n"
   ]
  },
  {
   "cell_type": "code",
   "execution_count": 144,
   "metadata": {},
   "outputs": [],
   "source": [
    "train_label_dir = \"./Data/files/Cityscapes_gtFine_trainvaltest/gtFine/train\"\n",
    "\n",
    "label_paths_train = []\n",
    "\n",
    "for i in os.listdir(train_label_dir):\n",
    "    folder_path = os.path.join(train_label_dir, i)\n",
    "    if i != '.DS_Store':\n",
    "        for j in os.listdir(folder_path):\n",
    "            file_path = os.path.join(folder_path, j)\n",
    "            label_paths_train.append(file_path)"
   ]
  },
  {
   "cell_type": "code",
   "execution_count": 145,
   "metadata": {},
   "outputs": [],
   "source": [
    "val_image_dir = \"./Data/files/Cityscapes_leftImg8bit_trainvaltest/leftImg8bit/val\"\n",
    "\n",
    "image_paths_validation = []\n",
    "\n",
    "for i in os.listdir(val_image_dir):\n",
    "    folder_path = os.path.join(val_image_dir, i)\n",
    "    if i != '.DS_Store':\n",
    "        for j in os.listdir(folder_path):\n",
    "            file_path = os.path.join(folder_path, j)\n",
    "            image_paths_validation.append(file_path)"
   ]
  },
  {
   "cell_type": "code",
   "execution_count": 146,
   "metadata": {},
   "outputs": [],
   "source": [
    "val_label_dir = \"./Data/files/Cityscapes_gtFine_trainvaltest/gtFine/val\"\n",
    "\n",
    "label_paths_validation = []\n",
    "\n",
    "for i in os.listdir(val_label_dir):\n",
    "    folder_path = os.path.join(val_label_dir, i)\n",
    "    if i != '.DS_Store':\n",
    "        for j in os.listdir(folder_path):\n",
    "            file_path = os.path.join(folder_path, j)\n",
    "            label_paths_validation.append(file_path)"
   ]
  },
  {
   "cell_type": "code",
   "execution_count": 147,
   "metadata": {},
   "outputs": [
    {
     "name": "stdout",
     "output_type": "stream",
     "text": [
      "2975\n",
      "2975\n",
      "500\n",
      "500\n"
     ]
    }
   ],
   "source": [
    "# le dossier label contient 4 fichier pour chaque image\n",
    "print(len(image_paths_train))\n",
    "print(int((len(label_paths_train))/4))\n",
    "print(len(image_paths_validation))\n",
    "print(int((len(label_paths_validation))/4))"
   ]
  },
  {
   "cell_type": "code",
   "execution_count": 148,
   "metadata": {},
   "outputs": [],
   "source": [
    "# train\n",
    "df_image_paths_train = pd.DataFrame({\"Index\": \"\", \"Path\": image_paths_train})\n",
    "df_label_paths_train = pd.DataFrame({\"Index\": \"\", \"Path\": label_paths_train})\n",
    "\n",
    "# validation\n",
    "df_image_paths_validation = pd.DataFrame({\"Index\": \"\", \"Path\": image_paths_validation})\n",
    "df_label_paths_validation = pd.DataFrame({\"Index\": \"\", \"Path\": label_paths_validation})"
   ]
  },
  {
   "cell_type": "code",
   "execution_count": 149,
   "metadata": {},
   "outputs": [],
   "source": [
    "# suppression des fichier inutile des labels image\n",
    "filter_instanceIds = df_label_paths_train[df_label_paths_train['Path'].str.contains('instanceIds')]\n",
    "filter_polygons = df_label_paths_train[df_label_paths_train['Path'].str.contains('polygons')]\n",
    "filter_labelIds = df_label_paths_train[df_label_paths_train['Path'].str.contains('labelIds')]\n",
    "\n",
    "df_label_paths_train = df_label_paths_train.drop(filter_instanceIds.index)\n",
    "df_label_paths_train = df_label_paths_train.drop(filter_polygons.index)\n",
    "df_label_paths_train = df_label_paths_train.drop(filter_labelIds.index)\n",
    "\n",
    "filter_instanceIds = df_label_paths_validation[df_label_paths_validation['Path'].str.contains('instanceIds')]\n",
    "filter_polygons = df_label_paths_validation[df_label_paths_validation['Path'].str.contains('polygons')]\n",
    "filter_labelIds = df_label_paths_validation[df_label_paths_validation['Path'].str.contains('labelIds')]\n",
    "\n",
    "df_label_paths_validation = df_label_paths_validation.drop(filter_instanceIds.index)\n",
    "df_label_paths_validation = df_label_paths_validation.drop(filter_polygons.index)\n",
    "df_label_paths_validation = df_label_paths_validation.drop(filter_labelIds.index)"
   ]
  },
  {
   "cell_type": "code",
   "execution_count": 150,
   "metadata": {},
   "outputs": [
    {
     "name": "stdout",
     "output_type": "stream",
     "text": [
      "2975\n",
      "2975\n",
      "500\n",
      "500\n"
     ]
    }
   ],
   "source": [
    "print(len(df_image_paths_train))# X\n",
    "print(len(df_label_paths_train))# y\n",
    "\n",
    "print(len(df_image_paths_validation))# X\n",
    "print(len(df_label_paths_validation))# y"
   ]
  },
  {
   "cell_type": "code",
   "execution_count": null,
   "metadata": {},
   "outputs": [],
   "source": []
  }
 ],
 "metadata": {
  "kernelspec": {
   "display_name": "VisionTransport",
   "language": "python",
   "name": "python3"
  },
  "language_info": {
   "codemirror_mode": {
    "name": "ipython",
    "version": 3
   },
   "file_extension": ".py",
   "mimetype": "text/x-python",
   "name": "python",
   "nbconvert_exporter": "python",
   "pygments_lexer": "ipython3",
   "version": "3.10.9"
  }
 },
 "nbformat": 4,
 "nbformat_minor": 2
}
