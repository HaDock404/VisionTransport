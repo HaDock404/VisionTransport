{
 "cells": [
  {
   "cell_type": "code",
   "execution_count": 1,
   "metadata": {},
   "outputs": [],
   "source": [
    "import numpy as np\n",
    "import json\n",
    "from PIL import Image, ImageDraw\n",
    "import os\n",
    "import pandas as pd\n",
    "pd.set_option('display.max_colwidth', None)"
   ]
  },
  {
   "cell_type": "code",
   "execution_count": 3,
   "metadata": {},
   "outputs": [],
   "source": [
    "# récupération des chemins des images dans les différents dossier\n",
    "train_image_dir = \"../../Data/files/Cityscapes_leftImg8bit_trainvaltest/leftImg8bit/train\"\n",
    "\n",
    "image_paths_train = []\n",
    "\n",
    "for i in os.listdir(train_image_dir):\n",
    "    folder_path = os.path.join(train_image_dir, i)\n",
    "    if i != '.DS_Store':\n",
    "        for j in os.listdir(folder_path):\n",
    "            file_path = os.path.join(folder_path, j)\n",
    "            image_paths_train.append(file_path)"
   ]
  },
  {
   "cell_type": "code",
   "execution_count": 4,
   "metadata": {},
   "outputs": [],
   "source": [
    "train_label_dir = \"../../Data/files/Cityscapes_gtFine_trainvaltest/gtFine/train\"\n",
    "\n",
    "label_paths_train = []\n",
    "\n",
    "for i in os.listdir(train_label_dir):\n",
    "    folder_path = os.path.join(train_label_dir, i)\n",
    "    if i != '.DS_Store':\n",
    "        for j in os.listdir(folder_path):\n",
    "            file_path = os.path.join(folder_path, j)\n",
    "            label_paths_train.append(file_path)"
   ]
  },
  {
   "cell_type": "code",
   "execution_count": 6,
   "metadata": {},
   "outputs": [],
   "source": [
    "val_image_dir = \"../../Data/files/Cityscapes_leftImg8bit_trainvaltest/leftImg8bit/val\"\n",
    "\n",
    "image_paths_validation = []\n",
    "\n",
    "for i in os.listdir(val_image_dir):\n",
    "    folder_path = os.path.join(val_image_dir, i)\n",
    "    if i != '.DS_Store':\n",
    "        for j in os.listdir(folder_path):\n",
    "            file_path = os.path.join(folder_path, j)\n",
    "            image_paths_validation.append(file_path)"
   ]
  },
  {
   "cell_type": "code",
   "execution_count": 7,
   "metadata": {},
   "outputs": [],
   "source": [
    "val_label_dir = \"../../Data/files/Cityscapes_gtFine_trainvaltest/gtFine/val\"\n",
    "\n",
    "label_paths_validation = []\n",
    "\n",
    "for i in os.listdir(val_label_dir):\n",
    "    folder_path = os.path.join(val_label_dir, i)\n",
    "    if i != '.DS_Store':\n",
    "        for j in os.listdir(folder_path):\n",
    "            file_path = os.path.join(folder_path, j)\n",
    "            label_paths_validation.append(file_path)"
   ]
  },
  {
   "cell_type": "code",
   "execution_count": 8,
   "metadata": {},
   "outputs": [
    {
     "name": "stdout",
     "output_type": "stream",
     "text": [
      "2975\n",
      "2975\n",
      "500\n",
      "500\n"
     ]
    }
   ],
   "source": [
    "# le dossier label contient 4 fichier pour chaque image\n",
    "print(len(image_paths_train))\n",
    "print(int((len(label_paths_train))/4))\n",
    "print(len(image_paths_validation))\n",
    "print(int((len(label_paths_validation))/4))"
   ]
  },
  {
   "cell_type": "code",
   "execution_count": 9,
   "metadata": {},
   "outputs": [],
   "source": [
    "# train\n",
    "df_image_paths_train = pd.DataFrame({\"Index\": \"\", \"Image_Path\": image_paths_train})\n",
    "df_label_paths_train = pd.DataFrame({\"Index\": \"\", \"Target_Path\": label_paths_train})\n",
    "\n",
    "# validation\n",
    "df_image_paths_validation = pd.DataFrame({\"Index\": \"\", \"Image_Path\": image_paths_validation})\n",
    "df_label_paths_validation = pd.DataFrame({\"Index\": \"\", \"Target_Path\": label_paths_validation})"
   ]
  },
  {
   "cell_type": "code",
   "execution_count": 10,
   "metadata": {},
   "outputs": [],
   "source": [
    "# suppression des fichier inutile des labels image\n",
    "filter_instanceIds = df_label_paths_train[df_label_paths_train['Target_Path'].str.contains('instanceIds')]\n",
    "filter_color = df_label_paths_train[df_label_paths_train['Target_Path'].str.contains('color')]\n",
    "filter_labelIds = df_label_paths_train[df_label_paths_train['Target_Path'].str.contains('labelIds')]\n",
    "\n",
    "df_label_paths_train = df_label_paths_train.drop(filter_instanceIds.index)\n",
    "df_label_paths_train = df_label_paths_train.drop(filter_color.index)\n",
    "df_label_paths_train = df_label_paths_train.drop(filter_labelIds.index)\n",
    "\n",
    "filter_instanceIds = df_label_paths_validation[df_label_paths_validation['Target_Path'].str.contains('instanceIds')]\n",
    "filter_color = df_label_paths_validation[df_label_paths_validation['Target_Path'].str.contains('color')]\n",
    "filter_labelIds = df_label_paths_validation[df_label_paths_validation['Target_Path'].str.contains('labelIds')]\n",
    "\n",
    "df_label_paths_validation = df_label_paths_validation.drop(filter_instanceIds.index)\n",
    "df_label_paths_validation = df_label_paths_validation.drop(filter_color.index)\n",
    "df_label_paths_validation = df_label_paths_validation.drop(filter_labelIds.index)"
   ]
  },
  {
   "cell_type": "code",
   "execution_count": 11,
   "metadata": {},
   "outputs": [
    {
     "name": "stdout",
     "output_type": "stream",
     "text": [
      "2975\n",
      "2975\n",
      "500\n",
      "500\n"
     ]
    }
   ],
   "source": [
    "print(len(df_image_paths_train))# X\n",
    "print(len(df_label_paths_train))# y\n",
    "\n",
    "print(len(df_image_paths_validation))# X\n",
    "print(len(df_label_paths_validation))# y"
   ]
  },
  {
   "cell_type": "code",
   "execution_count": 12,
   "metadata": {},
   "outputs": [],
   "source": [
    "# création d'un index à partir du nom du fichier simplifié\n",
    "index_tab = []\n",
    "for el in df_image_paths_train['Image_Path']:\n",
    "    file_name = os.path.splitext(os.path.basename(el))[0]\n",
    "    file_name = file_name.replace(\"_leftImg8bit\", \"\")\n",
    "    index_tab.append(file_name)\n",
    "df_image_paths_train['Index'] = index_tab"
   ]
  },
  {
   "cell_type": "code",
   "execution_count": 13,
   "metadata": {},
   "outputs": [],
   "source": [
    "index_tab = []\n",
    "for el in df_label_paths_train['Target_Path']:\n",
    "    file_name = os.path.splitext(os.path.basename(el))[0]\n",
    "    file_name = file_name.replace(\"_gtFine_polygons\", \"\")\n",
    "    index_tab.append(file_name)\n",
    "df_label_paths_train['Index'] = index_tab"
   ]
  },
  {
   "cell_type": "code",
   "execution_count": 14,
   "metadata": {},
   "outputs": [],
   "source": [
    "index_tab = []\n",
    "for el in df_image_paths_validation['Image_Path']:\n",
    "    file_name = os.path.splitext(os.path.basename(el))[0]\n",
    "    file_name = file_name.replace(\"_leftImg8bit\", \"\")\n",
    "    index_tab.append(file_name)\n",
    "df_image_paths_validation['Index'] = index_tab"
   ]
  },
  {
   "cell_type": "code",
   "execution_count": 15,
   "metadata": {},
   "outputs": [],
   "source": [
    "index_tab = []\n",
    "for el in df_label_paths_validation['Target_Path']:\n",
    "    file_name = os.path.splitext(os.path.basename(el))[0]\n",
    "    file_name = file_name.replace(\"_gtFine_polygons\", \"\")\n",
    "    index_tab.append(file_name)\n",
    "df_label_paths_validation['Index'] = index_tab"
   ]
  },
  {
   "cell_type": "code",
   "execution_count": 16,
   "metadata": {},
   "outputs": [],
   "source": [
    "df_train = pd.merge(df_image_paths_train, df_label_paths_train, on='Index', how='left')\n",
    "df_val = pd.merge(df_image_paths_validation, df_label_paths_validation, on='Index', how='left')"
   ]
  },
  {
   "cell_type": "code",
   "execution_count": 17,
   "metadata": {},
   "outputs": [
    {
     "data": {
      "text/html": [
       "<div>\n",
       "<style scoped>\n",
       "    .dataframe tbody tr th:only-of-type {\n",
       "        vertical-align: middle;\n",
       "    }\n",
       "\n",
       "    .dataframe tbody tr th {\n",
       "        vertical-align: top;\n",
       "    }\n",
       "\n",
       "    .dataframe thead th {\n",
       "        text-align: right;\n",
       "    }\n",
       "</style>\n",
       "<table border=\"1\" class=\"dataframe\">\n",
       "  <thead>\n",
       "    <tr style=\"text-align: right;\">\n",
       "      <th></th>\n",
       "      <th>Index</th>\n",
       "      <th>Image_Path</th>\n",
       "      <th>Target_Path</th>\n",
       "    </tr>\n",
       "  </thead>\n",
       "  <tbody>\n",
       "    <tr>\n",
       "      <th>0</th>\n",
       "      <td>zurich_000069_000019</td>\n",
       "      <td>../../Data/files/Cityscapes_leftImg8bit_trainvaltest/leftImg8bit/train/zurich/zurich_000069_000019_leftImg8bit.png</td>\n",
       "      <td>../../Data/files/Cityscapes_gtFine_trainvaltest/gtFine/train/zurich/zurich_000069_000019_gtFine_polygons.json</td>\n",
       "    </tr>\n",
       "    <tr>\n",
       "      <th>1</th>\n",
       "      <td>zurich_000063_000019</td>\n",
       "      <td>../../Data/files/Cityscapes_leftImg8bit_trainvaltest/leftImg8bit/train/zurich/zurich_000063_000019_leftImg8bit.png</td>\n",
       "      <td>../../Data/files/Cityscapes_gtFine_trainvaltest/gtFine/train/zurich/zurich_000063_000019_gtFine_polygons.json</td>\n",
       "    </tr>\n",
       "    <tr>\n",
       "      <th>2</th>\n",
       "      <td>zurich_000110_000019</td>\n",
       "      <td>../../Data/files/Cityscapes_leftImg8bit_trainvaltest/leftImg8bit/train/zurich/zurich_000110_000019_leftImg8bit.png</td>\n",
       "      <td>../../Data/files/Cityscapes_gtFine_trainvaltest/gtFine/train/zurich/zurich_000110_000019_gtFine_polygons.json</td>\n",
       "    </tr>\n",
       "    <tr>\n",
       "      <th>3</th>\n",
       "      <td>zurich_000016_000019</td>\n",
       "      <td>../../Data/files/Cityscapes_leftImg8bit_trainvaltest/leftImg8bit/train/zurich/zurich_000016_000019_leftImg8bit.png</td>\n",
       "      <td>../../Data/files/Cityscapes_gtFine_trainvaltest/gtFine/train/zurich/zurich_000016_000019_gtFine_polygons.json</td>\n",
       "    </tr>\n",
       "    <tr>\n",
       "      <th>4</th>\n",
       "      <td>zurich_000027_000019</td>\n",
       "      <td>../../Data/files/Cityscapes_leftImg8bit_trainvaltest/leftImg8bit/train/zurich/zurich_000027_000019_leftImg8bit.png</td>\n",
       "      <td>../../Data/files/Cityscapes_gtFine_trainvaltest/gtFine/train/zurich/zurich_000027_000019_gtFine_polygons.json</td>\n",
       "    </tr>\n",
       "    <tr>\n",
       "      <th>...</th>\n",
       "      <td>...</td>\n",
       "      <td>...</td>\n",
       "      <td>...</td>\n",
       "    </tr>\n",
       "    <tr>\n",
       "      <th>2970</th>\n",
       "      <td>bremen_000093_000019</td>\n",
       "      <td>../../Data/files/Cityscapes_leftImg8bit_trainvaltest/leftImg8bit/train/bremen/bremen_000093_000019_leftImg8bit.png</td>\n",
       "      <td>../../Data/files/Cityscapes_gtFine_trainvaltest/gtFine/train/bremen/bremen_000093_000019_gtFine_polygons.json</td>\n",
       "    </tr>\n",
       "    <tr>\n",
       "      <th>2971</th>\n",
       "      <td>bremen_000275_000019</td>\n",
       "      <td>../../Data/files/Cityscapes_leftImg8bit_trainvaltest/leftImg8bit/train/bremen/bremen_000275_000019_leftImg8bit.png</td>\n",
       "      <td>../../Data/files/Cityscapes_gtFine_trainvaltest/gtFine/train/bremen/bremen_000275_000019_gtFine_polygons.json</td>\n",
       "    </tr>\n",
       "    <tr>\n",
       "      <th>2972</th>\n",
       "      <td>bremen_000306_000019</td>\n",
       "      <td>../../Data/files/Cityscapes_leftImg8bit_trainvaltest/leftImg8bit/train/bremen/bremen_000306_000019_leftImg8bit.png</td>\n",
       "      <td>../../Data/files/Cityscapes_gtFine_trainvaltest/gtFine/train/bremen/bremen_000306_000019_gtFine_polygons.json</td>\n",
       "    </tr>\n",
       "    <tr>\n",
       "      <th>2973</th>\n",
       "      <td>bremen_000058_000019</td>\n",
       "      <td>../../Data/files/Cityscapes_leftImg8bit_trainvaltest/leftImg8bit/train/bremen/bremen_000058_000019_leftImg8bit.png</td>\n",
       "      <td>../../Data/files/Cityscapes_gtFine_trainvaltest/gtFine/train/bremen/bremen_000058_000019_gtFine_polygons.json</td>\n",
       "    </tr>\n",
       "    <tr>\n",
       "      <th>2974</th>\n",
       "      <td>bremen_000099_000019</td>\n",
       "      <td>../../Data/files/Cityscapes_leftImg8bit_trainvaltest/leftImg8bit/train/bremen/bremen_000099_000019_leftImg8bit.png</td>\n",
       "      <td>../../Data/files/Cityscapes_gtFine_trainvaltest/gtFine/train/bremen/bremen_000099_000019_gtFine_polygons.json</td>\n",
       "    </tr>\n",
       "  </tbody>\n",
       "</table>\n",
       "<p>2975 rows × 3 columns</p>\n",
       "</div>"
      ],
      "text/plain": [
       "                     Index  \\\n",
       "0     zurich_000069_000019   \n",
       "1     zurich_000063_000019   \n",
       "2     zurich_000110_000019   \n",
       "3     zurich_000016_000019   \n",
       "4     zurich_000027_000019   \n",
       "...                    ...   \n",
       "2970  bremen_000093_000019   \n",
       "2971  bremen_000275_000019   \n",
       "2972  bremen_000306_000019   \n",
       "2973  bremen_000058_000019   \n",
       "2974  bremen_000099_000019   \n",
       "\n",
       "                                                                                                              Image_Path  \\\n",
       "0     ../../Data/files/Cityscapes_leftImg8bit_trainvaltest/leftImg8bit/train/zurich/zurich_000069_000019_leftImg8bit.png   \n",
       "1     ../../Data/files/Cityscapes_leftImg8bit_trainvaltest/leftImg8bit/train/zurich/zurich_000063_000019_leftImg8bit.png   \n",
       "2     ../../Data/files/Cityscapes_leftImg8bit_trainvaltest/leftImg8bit/train/zurich/zurich_000110_000019_leftImg8bit.png   \n",
       "3     ../../Data/files/Cityscapes_leftImg8bit_trainvaltest/leftImg8bit/train/zurich/zurich_000016_000019_leftImg8bit.png   \n",
       "4     ../../Data/files/Cityscapes_leftImg8bit_trainvaltest/leftImg8bit/train/zurich/zurich_000027_000019_leftImg8bit.png   \n",
       "...                                                                                                                  ...   \n",
       "2970  ../../Data/files/Cityscapes_leftImg8bit_trainvaltest/leftImg8bit/train/bremen/bremen_000093_000019_leftImg8bit.png   \n",
       "2971  ../../Data/files/Cityscapes_leftImg8bit_trainvaltest/leftImg8bit/train/bremen/bremen_000275_000019_leftImg8bit.png   \n",
       "2972  ../../Data/files/Cityscapes_leftImg8bit_trainvaltest/leftImg8bit/train/bremen/bremen_000306_000019_leftImg8bit.png   \n",
       "2973  ../../Data/files/Cityscapes_leftImg8bit_trainvaltest/leftImg8bit/train/bremen/bremen_000058_000019_leftImg8bit.png   \n",
       "2974  ../../Data/files/Cityscapes_leftImg8bit_trainvaltest/leftImg8bit/train/bremen/bremen_000099_000019_leftImg8bit.png   \n",
       "\n",
       "                                                                                                        Target_Path  \n",
       "0     ../../Data/files/Cityscapes_gtFine_trainvaltest/gtFine/train/zurich/zurich_000069_000019_gtFine_polygons.json  \n",
       "1     ../../Data/files/Cityscapes_gtFine_trainvaltest/gtFine/train/zurich/zurich_000063_000019_gtFine_polygons.json  \n",
       "2     ../../Data/files/Cityscapes_gtFine_trainvaltest/gtFine/train/zurich/zurich_000110_000019_gtFine_polygons.json  \n",
       "3     ../../Data/files/Cityscapes_gtFine_trainvaltest/gtFine/train/zurich/zurich_000016_000019_gtFine_polygons.json  \n",
       "4     ../../Data/files/Cityscapes_gtFine_trainvaltest/gtFine/train/zurich/zurich_000027_000019_gtFine_polygons.json  \n",
       "...                                                                                                             ...  \n",
       "2970  ../../Data/files/Cityscapes_gtFine_trainvaltest/gtFine/train/bremen/bremen_000093_000019_gtFine_polygons.json  \n",
       "2971  ../../Data/files/Cityscapes_gtFine_trainvaltest/gtFine/train/bremen/bremen_000275_000019_gtFine_polygons.json  \n",
       "2972  ../../Data/files/Cityscapes_gtFine_trainvaltest/gtFine/train/bremen/bremen_000306_000019_gtFine_polygons.json  \n",
       "2973  ../../Data/files/Cityscapes_gtFine_trainvaltest/gtFine/train/bremen/bremen_000058_000019_gtFine_polygons.json  \n",
       "2974  ../../Data/files/Cityscapes_gtFine_trainvaltest/gtFine/train/bremen/bremen_000099_000019_gtFine_polygons.json  \n",
       "\n",
       "[2975 rows x 3 columns]"
      ]
     },
     "execution_count": 17,
     "metadata": {},
     "output_type": "execute_result"
    }
   ],
   "source": [
    "df_train"
   ]
  },
  {
   "cell_type": "code",
   "execution_count": 18,
   "metadata": {},
   "outputs": [
    {
     "data": {
      "text/html": [
       "<div>\n",
       "<style scoped>\n",
       "    .dataframe tbody tr th:only-of-type {\n",
       "        vertical-align: middle;\n",
       "    }\n",
       "\n",
       "    .dataframe tbody tr th {\n",
       "        vertical-align: top;\n",
       "    }\n",
       "\n",
       "    .dataframe thead th {\n",
       "        text-align: right;\n",
       "    }\n",
       "</style>\n",
       "<table border=\"1\" class=\"dataframe\">\n",
       "  <thead>\n",
       "    <tr style=\"text-align: right;\">\n",
       "      <th></th>\n",
       "      <th>Index</th>\n",
       "      <th>Image_Path</th>\n",
       "      <th>Target_Path</th>\n",
       "    </tr>\n",
       "  </thead>\n",
       "  <tbody>\n",
       "    <tr>\n",
       "      <th>0</th>\n",
       "      <td>munster_000025_000019</td>\n",
       "      <td>../../Data/files/Cityscapes_leftImg8bit_trainvaltest/leftImg8bit/val/munster/munster_000025_000019_leftImg8bit.png</td>\n",
       "      <td>../../Data/files/Cityscapes_gtFine_trainvaltest/gtFine/val/munster/munster_000025_000019_gtFine_polygons.json</td>\n",
       "    </tr>\n",
       "    <tr>\n",
       "      <th>1</th>\n",
       "      <td>munster_000156_000019</td>\n",
       "      <td>../../Data/files/Cityscapes_leftImg8bit_trainvaltest/leftImg8bit/val/munster/munster_000156_000019_leftImg8bit.png</td>\n",
       "      <td>../../Data/files/Cityscapes_gtFine_trainvaltest/gtFine/val/munster/munster_000156_000019_gtFine_polygons.json</td>\n",
       "    </tr>\n",
       "    <tr>\n",
       "      <th>2</th>\n",
       "      <td>munster_000050_000019</td>\n",
       "      <td>../../Data/files/Cityscapes_leftImg8bit_trainvaltest/leftImg8bit/val/munster/munster_000050_000019_leftImg8bit.png</td>\n",
       "      <td>../../Data/files/Cityscapes_gtFine_trainvaltest/gtFine/val/munster/munster_000050_000019_gtFine_polygons.json</td>\n",
       "    </tr>\n",
       "    <tr>\n",
       "      <th>3</th>\n",
       "      <td>munster_000123_000019</td>\n",
       "      <td>../../Data/files/Cityscapes_leftImg8bit_trainvaltest/leftImg8bit/val/munster/munster_000123_000019_leftImg8bit.png</td>\n",
       "      <td>../../Data/files/Cityscapes_gtFine_trainvaltest/gtFine/val/munster/munster_000123_000019_gtFine_polygons.json</td>\n",
       "    </tr>\n",
       "    <tr>\n",
       "      <th>4</th>\n",
       "      <td>munster_000091_000019</td>\n",
       "      <td>../../Data/files/Cityscapes_leftImg8bit_trainvaltest/leftImg8bit/val/munster/munster_000091_000019_leftImg8bit.png</td>\n",
       "      <td>../../Data/files/Cityscapes_gtFine_trainvaltest/gtFine/val/munster/munster_000091_000019_gtFine_polygons.json</td>\n",
       "    </tr>\n",
       "    <tr>\n",
       "      <th>...</th>\n",
       "      <td>...</td>\n",
       "      <td>...</td>\n",
       "      <td>...</td>\n",
       "    </tr>\n",
       "    <tr>\n",
       "      <th>495</th>\n",
       "      <td>frankfurt_000001_037705</td>\n",
       "      <td>../../Data/files/Cityscapes_leftImg8bit_trainvaltest/leftImg8bit/val/frankfurt/frankfurt_000001_037705_leftImg8bit.png</td>\n",
       "      <td>../../Data/files/Cityscapes_gtFine_trainvaltest/gtFine/val/frankfurt/frankfurt_000001_037705_gtFine_polygons.json</td>\n",
       "    </tr>\n",
       "    <tr>\n",
       "      <th>496</th>\n",
       "      <td>frankfurt_000000_014480</td>\n",
       "      <td>../../Data/files/Cityscapes_leftImg8bit_trainvaltest/leftImg8bit/val/frankfurt/frankfurt_000000_014480_leftImg8bit.png</td>\n",
       "      <td>../../Data/files/Cityscapes_gtFine_trainvaltest/gtFine/val/frankfurt/frankfurt_000000_014480_gtFine_polygons.json</td>\n",
       "    </tr>\n",
       "    <tr>\n",
       "      <th>497</th>\n",
       "      <td>frankfurt_000001_051807</td>\n",
       "      <td>../../Data/files/Cityscapes_leftImg8bit_trainvaltest/leftImg8bit/val/frankfurt/frankfurt_000001_051807_leftImg8bit.png</td>\n",
       "      <td>../../Data/files/Cityscapes_gtFine_trainvaltest/gtFine/val/frankfurt/frankfurt_000001_051807_gtFine_polygons.json</td>\n",
       "    </tr>\n",
       "    <tr>\n",
       "      <th>498</th>\n",
       "      <td>frankfurt_000001_066574</td>\n",
       "      <td>../../Data/files/Cityscapes_leftImg8bit_trainvaltest/leftImg8bit/val/frankfurt/frankfurt_000001_066574_leftImg8bit.png</td>\n",
       "      <td>../../Data/files/Cityscapes_gtFine_trainvaltest/gtFine/val/frankfurt/frankfurt_000001_066574_gtFine_polygons.json</td>\n",
       "    </tr>\n",
       "    <tr>\n",
       "      <th>499</th>\n",
       "      <td>frankfurt_000000_000294</td>\n",
       "      <td>../../Data/files/Cityscapes_leftImg8bit_trainvaltest/leftImg8bit/val/frankfurt/frankfurt_000000_000294_leftImg8bit.png</td>\n",
       "      <td>../../Data/files/Cityscapes_gtFine_trainvaltest/gtFine/val/frankfurt/frankfurt_000000_000294_gtFine_polygons.json</td>\n",
       "    </tr>\n",
       "  </tbody>\n",
       "</table>\n",
       "<p>500 rows × 3 columns</p>\n",
       "</div>"
      ],
      "text/plain": [
       "                       Index  \\\n",
       "0      munster_000025_000019   \n",
       "1      munster_000156_000019   \n",
       "2      munster_000050_000019   \n",
       "3      munster_000123_000019   \n",
       "4      munster_000091_000019   \n",
       "..                       ...   \n",
       "495  frankfurt_000001_037705   \n",
       "496  frankfurt_000000_014480   \n",
       "497  frankfurt_000001_051807   \n",
       "498  frankfurt_000001_066574   \n",
       "499  frankfurt_000000_000294   \n",
       "\n",
       "                                                                                                                 Image_Path  \\\n",
       "0        ../../Data/files/Cityscapes_leftImg8bit_trainvaltest/leftImg8bit/val/munster/munster_000025_000019_leftImg8bit.png   \n",
       "1        ../../Data/files/Cityscapes_leftImg8bit_trainvaltest/leftImg8bit/val/munster/munster_000156_000019_leftImg8bit.png   \n",
       "2        ../../Data/files/Cityscapes_leftImg8bit_trainvaltest/leftImg8bit/val/munster/munster_000050_000019_leftImg8bit.png   \n",
       "3        ../../Data/files/Cityscapes_leftImg8bit_trainvaltest/leftImg8bit/val/munster/munster_000123_000019_leftImg8bit.png   \n",
       "4        ../../Data/files/Cityscapes_leftImg8bit_trainvaltest/leftImg8bit/val/munster/munster_000091_000019_leftImg8bit.png   \n",
       "..                                                                                                                      ...   \n",
       "495  ../../Data/files/Cityscapes_leftImg8bit_trainvaltest/leftImg8bit/val/frankfurt/frankfurt_000001_037705_leftImg8bit.png   \n",
       "496  ../../Data/files/Cityscapes_leftImg8bit_trainvaltest/leftImg8bit/val/frankfurt/frankfurt_000000_014480_leftImg8bit.png   \n",
       "497  ../../Data/files/Cityscapes_leftImg8bit_trainvaltest/leftImg8bit/val/frankfurt/frankfurt_000001_051807_leftImg8bit.png   \n",
       "498  ../../Data/files/Cityscapes_leftImg8bit_trainvaltest/leftImg8bit/val/frankfurt/frankfurt_000001_066574_leftImg8bit.png   \n",
       "499  ../../Data/files/Cityscapes_leftImg8bit_trainvaltest/leftImg8bit/val/frankfurt/frankfurt_000000_000294_leftImg8bit.png   \n",
       "\n",
       "                                                                                                           Target_Path  \n",
       "0        ../../Data/files/Cityscapes_gtFine_trainvaltest/gtFine/val/munster/munster_000025_000019_gtFine_polygons.json  \n",
       "1        ../../Data/files/Cityscapes_gtFine_trainvaltest/gtFine/val/munster/munster_000156_000019_gtFine_polygons.json  \n",
       "2        ../../Data/files/Cityscapes_gtFine_trainvaltest/gtFine/val/munster/munster_000050_000019_gtFine_polygons.json  \n",
       "3        ../../Data/files/Cityscapes_gtFine_trainvaltest/gtFine/val/munster/munster_000123_000019_gtFine_polygons.json  \n",
       "4        ../../Data/files/Cityscapes_gtFine_trainvaltest/gtFine/val/munster/munster_000091_000019_gtFine_polygons.json  \n",
       "..                                                                                                                 ...  \n",
       "495  ../../Data/files/Cityscapes_gtFine_trainvaltest/gtFine/val/frankfurt/frankfurt_000001_037705_gtFine_polygons.json  \n",
       "496  ../../Data/files/Cityscapes_gtFine_trainvaltest/gtFine/val/frankfurt/frankfurt_000000_014480_gtFine_polygons.json  \n",
       "497  ../../Data/files/Cityscapes_gtFine_trainvaltest/gtFine/val/frankfurt/frankfurt_000001_051807_gtFine_polygons.json  \n",
       "498  ../../Data/files/Cityscapes_gtFine_trainvaltest/gtFine/val/frankfurt/frankfurt_000001_066574_gtFine_polygons.json  \n",
       "499  ../../Data/files/Cityscapes_gtFine_trainvaltest/gtFine/val/frankfurt/frankfurt_000000_000294_gtFine_polygons.json  \n",
       "\n",
       "[500 rows x 3 columns]"
      ]
     },
     "execution_count": 18,
     "metadata": {},
     "output_type": "execute_result"
    }
   ],
   "source": [
    "df_val"
   ]
  },
  {
   "cell_type": "markdown",
   "metadata": {},
   "source": [
    "# Préparation Data Train"
   ]
  },
  {
   "cell_type": "code",
   "execution_count": 19,
   "metadata": {},
   "outputs": [],
   "source": [
    "for i in range(len(df_train)):\n",
    "    img = Image.open(df_train['Image_Path'][i])\n",
    "    file_path = df_train['Index'][i]\n",
    "    img.save(f'./images/{file_path}.png')"
   ]
  },
  {
   "cell_type": "code",
   "execution_count": 20,
   "metadata": {},
   "outputs": [],
   "source": [
    "for i in range(len(df_train)):\n",
    "    path_JSON = df_train['Target_Path'][i]\n",
    "    file_path = df_train['Index'][i]\n",
    "    with open(path_JSON, 'r') as f:\n",
    "        json_file = json.load(f)\n",
    "    img = Image.new(\"RGB\", (json_file['imgWidth'], json_file['imgHeight']), \"black\")\n",
    "    draw = ImageDraw.Draw(img)\n",
    "\n",
    "    for object in json_file['objects']:\n",
    "        polygon_annotation = []\n",
    "        if object['label'] == 'car':\n",
    "            for x, y in object['polygon']:\n",
    "                polygon_annotation.append((x, y))\n",
    "            draw.polygon(polygon_annotation, fill='white')\n",
    "        else : pass\n",
    "    img.save(f'./masks/{file_path}.png')"
   ]
  },
  {
   "cell_type": "markdown",
   "metadata": {},
   "source": [
    "Préparation Data val"
   ]
  },
  {
   "cell_type": "code",
   "execution_count": 21,
   "metadata": {},
   "outputs": [],
   "source": [
    "for i in range(len(df_val)):\n",
    "    img = Image.open(df_val['Image_Path'][i])\n",
    "    file_path = df_val['Index'][i]\n",
    "    img.save(f'./images_val/{file_path}.png')"
   ]
  },
  {
   "cell_type": "code",
   "execution_count": 22,
   "metadata": {},
   "outputs": [],
   "source": [
    "for i in range(len(df_val)):\n",
    "    path_JSON = df_val['Target_Path'][i]\n",
    "    file_path = df_val['Index'][i]\n",
    "    with open(path_JSON, 'r') as f:\n",
    "        json_file = json.load(f)\n",
    "    img = Image.new(\"RGB\", (json_file['imgWidth'], json_file['imgHeight']), \"black\")\n",
    "    draw = ImageDraw.Draw(img)\n",
    "\n",
    "    for object in json_file['objects']:\n",
    "        polygon_annotation = []\n",
    "        if object['label'] == 'car':\n",
    "            for x, y in object['polygon']:\n",
    "                polygon_annotation.append((x, y))\n",
    "            draw.polygon(polygon_annotation, fill='white')\n",
    "        else : pass\n",
    "    img.save(f'./masks_val/{file_path}.png')"
   ]
  },
  {
   "cell_type": "code",
   "execution_count": null,
   "metadata": {},
   "outputs": [],
   "source": []
  }
 ],
 "metadata": {
  "kernelspec": {
   "display_name": "VisionTransport",
   "language": "python",
   "name": "python3"
  },
  "language_info": {
   "codemirror_mode": {
    "name": "ipython",
    "version": 3
   },
   "file_extension": ".py",
   "mimetype": "text/x-python",
   "name": "python",
   "nbconvert_exporter": "python",
   "pygments_lexer": "ipython3",
   "version": "3.10.9"
  }
 },
 "nbformat": 4,
 "nbformat_minor": 2
}
