{
 "cells": [
  {
   "cell_type": "code",
   "execution_count": 2,
   "metadata": {},
   "outputs": [],
   "source": [
    "from tensorflow.keras import backend as K  # type: ignore\n",
    "import tensorflow as tf\n",
    "import os\n",
    "os.environ['TF_CPP_MIN_LOG_LEVEL'] = '1' # delete alert message from Tensorflow\n",
    "from PIL import Image\n",
    "from tensorflow.keras.preprocessing.image import img_to_array  # type: ignore\n",
    "import numpy as np"
   ]
  },
  {
   "cell_type": "code",
   "execution_count": 21,
   "metadata": {},
   "outputs": [],
   "source": [
    "y_true = np.array([[3, 1, 1],\n",
    "                    [5, 3, 1],\n",
    "                    [0, 6, 3]])\n",
    "\n",
    "y_pred = np.array([[3, 1, 1],\n",
    "                    [5, 3, 1],\n",
    "                    [0, 6, 3]])"
   ]
  },
  {
   "cell_type": "code",
   "execution_count": 9,
   "metadata": {},
   "outputs": [
    {
     "data": {
      "text/plain": [
       "array([[3, 1, 1],\n",
       "       [5, 3, 1],\n",
       "       [0, 6, 3]])"
      ]
     },
     "execution_count": 9,
     "metadata": {},
     "output_type": "execute_result"
    }
   ],
   "source": [
    "y_pred"
   ]
  },
  {
   "cell_type": "code",
   "execution_count": 10,
   "metadata": {},
   "outputs": [
    {
     "data": {
      "text/plain": [
       "array([[3, 1, 1],\n",
       "       [5, 3, 1],\n",
       "       [0, 6, 3]])"
      ]
     },
     "execution_count": 10,
     "metadata": {},
     "output_type": "execute_result"
    }
   ],
   "source": [
    "y_true"
   ]
  },
  {
   "cell_type": "code",
   "execution_count": 16,
   "metadata": {},
   "outputs": [],
   "source": [
    "y_true = y_true.flatten()"
   ]
  },
  {
   "cell_type": "code",
   "execution_count": 17,
   "metadata": {},
   "outputs": [
    {
     "name": "stdout",
     "output_type": "stream",
     "text": [
      "3\n",
      "1\n",
      "1\n",
      "5\n",
      "3\n",
      "1\n",
      "0\n",
      "6\n",
      "3\n"
     ]
    }
   ],
   "source": [
    "for i in y_true:\n",
    "    print(i)"
   ]
  },
  {
   "cell_type": "code",
   "execution_count": 40,
   "metadata": {},
   "outputs": [],
   "source": [
    "def dice_coeff_multiclass(y_pred, y_true):\n",
    "    num_class_pred = len(np.unique(y_pred))\n",
    "    num_class_true = len(np.unique(y_true))\n",
    "    if num_class_pred != num_class_true:\n",
    "        return print(\"Error\")\n",
    "    else :\n",
    "        num_class = np.unique(y_pred)\n",
    "\n",
    "    el_unique = []\n",
    "    for el in num_class:\n",
    "        el_unique.append(el)\n",
    "\n",
    "    binary_tab = np.copy(y_pred)\n",
    "    for value in el_unique:\n",
    "        if value == 3:\n",
    "            binary_tab[y_pred == value] = 0\n",
    "        else:\n",
    "            binary_tab[y_pred == value] = 1\n",
    "    return binary_tab\n"
   ]
  },
  {
   "cell_type": "code",
   "execution_count": 59,
   "metadata": {},
   "outputs": [],
   "source": [
    "from tensorflow.keras import backend as K  # type: ignore\n",
    "import tensorflow as tf\n",
    "import os\n",
    "os.environ['TF_CPP_MIN_LOG_LEVEL'] = '1' # delete alert message from Tensorflow\n",
    "from PIL import Image\n",
    "from tensorflow.keras.preprocessing.image import img_to_array  # type: ignore\n",
    "import numpy as np"
   ]
  },
  {
   "cell_type": "code",
   "execution_count": 65,
   "metadata": {},
   "outputs": [],
   "source": [
    "def dice_coef(y_true, y_pred, smooth=1e-6):\n",
    "    y_true = K.cast(y_true, 'float32')\n",
    "    y_pred = K.cast(y_pred, 'float32')\n",
    "    \n",
    "    inputs = K.flatten(y_pred)\n",
    "    targets = K.flatten(y_true)\n",
    "\n",
    "    targets = K.expand_dims(targets, axis=-1)\n",
    "    inputs = K.expand_dims(inputs, axis=-1)\n",
    "\n",
    "    intersection = K.sum(targets * inputs)\n",
    "    return (2*intersection + smooth) / (K.sum(targets) + K.sum(inputs) + smooth)\n",
    "\n",
    "def dice_coeff_multiclass(y_pred, y_true):\n",
    "    num_class_pred = len(np.unique(y_pred))\n",
    "    num_class_true = len(np.unique(y_true))\n",
    "    if num_class_pred != num_class_true:\n",
    "        return print(\"Error\")\n",
    "    else :\n",
    "        num_class = np.unique(y_pred)\n",
    "\n",
    "    el_unique = []\n",
    "    for el in num_class:\n",
    "        el_unique.append(el)\n",
    "\n",
    "    dice_mean = []\n",
    "\n",
    "    for value in el_unique:\n",
    "        binary_pred = np.copy(y_pred)\n",
    "        binary_pred[y_pred == value] = 0\n",
    "        binary_pred[y_pred != value] = 1\n",
    "\n",
    "        binary_true = np.copy(y_true)\n",
    "        binary_true[y_true == value] = 0\n",
    "        binary_true[y_true != value] = 1\n",
    "\n",
    "        dice_mean.append(dice_coef(binary_true, binary_pred).numpy())\n",
    "\n",
    "    return np.mean(dice_mean)\n"
   ]
  },
  {
   "cell_type": "code",
   "execution_count": 70,
   "metadata": {},
   "outputs": [
    {
     "name": "stdout",
     "output_type": "stream",
     "text": [
      "[[3 1 1]\n",
      " [5 3 1]\n",
      " [0 6 3]]\n",
      "-----------\n",
      "[[3 1 1]\n",
      " [5 3 1]\n",
      " [0 6 3]]\n",
      "-----------\n",
      "Moyenne Dice coef:  1.0\n"
     ]
    }
   ],
   "source": [
    "y_true = np.array([[3, 1, 1],\n",
    "                    [5, 3, 1],\n",
    "                    [0, 6, 3]])\n",
    "\n",
    "y_pred = np.array([[3, 1, 1],\n",
    "                    [5, 3, 1],\n",
    "                    [0, 6, 3]])\n",
    "\n",
    "print(y_pred)\n",
    "print(\"-----------\")\n",
    "print(y_true)\n",
    "print(\"-----------\")\n",
    "print(\"Moyenne Dice coef: \",dice_coeff_multiclass(y_pred, y_true))"
   ]
  },
  {
   "cell_type": "code",
   "execution_count": null,
   "metadata": {},
   "outputs": [],
   "source": []
  },
  {
   "cell_type": "code",
   "execution_count": 48,
   "metadata": {},
   "outputs": [
    {
     "data": {
      "text/plain": [
       "5"
      ]
     },
     "execution_count": 48,
     "metadata": {},
     "output_type": "execute_result"
    }
   ],
   "source": [
    "len(np.unique(y_pred))"
   ]
  },
  {
   "cell_type": "code",
   "execution_count": 6,
   "metadata": {},
   "outputs": [],
   "source": [
    "def dice_coef(y_true, y_pred, smooth=1e-6):\n",
    "    y_true = K.cast(y_true, 'float32')\n",
    "    y_pred = K.cast(y_pred, 'float32')\n",
    "    \n",
    "    inputs = K.flatten(y_pred)\n",
    "    targets = K.flatten(y_true)\n",
    "\n",
    "    targets = K.expand_dims(targets, axis=-1)\n",
    "    inputs = K.expand_dims(inputs, axis=-1)\n",
    "\n",
    "    intersection = K.sum(targets * inputs)\n",
    "    return (2*intersection + smooth) / (K.sum(targets) + K.sum(inputs) + smooth)"
   ]
  },
  {
   "cell_type": "code",
   "execution_count": 7,
   "metadata": {},
   "outputs": [
    {
     "name": "stdout",
     "output_type": "stream",
     "text": [
      "Dice coef: tf.Tensor(1.0, shape=(), dtype=float32)\n"
     ]
    }
   ],
   "source": [
    "y_true = np.array([[0, 1, 1],\n",
    "                    [1, 0, 1],\n",
    "                    [0, 0, 1]])\n",
    "\n",
    "y_pred = np.array([[0, 1, 1],\n",
    "                    [1, 0, 1],\n",
    "                    [0, 0, 1]])\n",
    "\n",
    "loss = dice_coef(y_true, y_pred)\n",
    "print(\"Dice coef:\", loss)"
   ]
  },
  {
   "cell_type": "code",
   "execution_count": 19,
   "metadata": {},
   "outputs": [
    {
     "data": {
      "text/plain": [
       "1.0"
      ]
     },
     "execution_count": 19,
     "metadata": {},
     "output_type": "execute_result"
    }
   ],
   "source": [
    "loss.numpy()"
   ]
  },
  {
   "cell_type": "code",
   "execution_count": null,
   "metadata": {},
   "outputs": [],
   "source": []
  }
 ],
 "metadata": {
  "kernelspec": {
   "display_name": "VisionTransport",
   "language": "python",
   "name": "python3"
  },
  "language_info": {
   "codemirror_mode": {
    "name": "ipython",
    "version": 3
   },
   "file_extension": ".py",
   "mimetype": "text/x-python",
   "name": "python",
   "nbconvert_exporter": "python",
   "pygments_lexer": "ipython3",
   "version": "3.10.9"
  }
 },
 "nbformat": 4,
 "nbformat_minor": 2
}
