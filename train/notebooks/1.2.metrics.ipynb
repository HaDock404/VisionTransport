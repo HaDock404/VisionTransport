{
 "cells": [
  {
   "cell_type": "code",
   "execution_count": 2,
   "metadata": {},
   "outputs": [],
   "source": [
    "from tensorflow.keras import backend as K  # type: ignore\n",
    "import tensorflow as tf\n",
    "import os\n",
    "os.environ['TF_CPP_MIN_LOG_LEVEL'] = '1' # delete alert message from Tensorflow\n",
    "from PIL import Image\n",
    "from tensorflow.keras.preprocessing.image import img_to_array  # type: ignore\n",
    "import numpy as np"
   ]
  },
  {
   "cell_type": "code",
   "execution_count": 6,
   "metadata": {},
   "outputs": [],
   "source": [
    "import tensorflow.keras.backend as K"
   ]
  },
  {
   "cell_type": "code",
   "execution_count": 11,
   "metadata": {},
   "outputs": [],
   "source": [
    "def DiceLoss(y_true, y_pred, smooth=1e-6):\n",
    "    y_true = K.cast(y_true, 'float32')\n",
    "    y_pred = K.cast(y_pred, 'float32')\n",
    "    \n",
    "    inputs = K.flatten(y_pred)\n",
    "    targets = K.flatten(y_true)\n",
    "\n",
    "    # Ajouter une dimension supplémentaire\n",
    "    targets = K.expand_dims(targets, axis=-1)\n",
    "    inputs = K.expand_dims(inputs, axis=-1)\n",
    "    \n",
    "    intersection = K.sum(targets * inputs)\n",
    "    dice = (2*intersection + smooth) / (K.sum(targets) + K.sum(inputs) + smooth)\n",
    "\n",
    "    return 1 - dice\n"
   ]
  },
  {
   "cell_type": "code",
   "execution_count": 13,
   "metadata": {},
   "outputs": [
    {
     "name": "stdout",
     "output_type": "stream",
     "text": [
      "Dice Loss: tf.Tensor(0.9999999, shape=(), dtype=float32)\n"
     ]
    }
   ],
   "source": [
    "y_true = np.array([[1, 1, 1],\n",
    "                    [1, 1, 1],\n",
    "                    [1, 1, 1]])\n",
    "\n",
    "y_pred = np.array([[0, 0, 0],\n",
    "                    [0, 0, 0],\n",
    "                    [0, 0, 0]])\n",
    "\n",
    "# Tester la fonction DiceLoss\n",
    "loss = DiceLoss(y_true, y_pred)\n",
    "print(\"Dice Loss:\", loss)"
   ]
  },
  {
   "cell_type": "code",
   "execution_count": null,
   "metadata": {},
   "outputs": [],
   "source": []
  }
 ],
 "metadata": {
  "kernelspec": {
   "display_name": "VisionTransport",
   "language": "python",
   "name": "python3"
  },
  "language_info": {
   "codemirror_mode": {
    "name": "ipython",
    "version": 3
   },
   "file_extension": ".py",
   "mimetype": "text/x-python",
   "name": "python",
   "nbconvert_exporter": "python",
   "pygments_lexer": "ipython3",
   "version": "3.10.9"
  }
 },
 "nbformat": 4,
 "nbformat_minor": 2
}
