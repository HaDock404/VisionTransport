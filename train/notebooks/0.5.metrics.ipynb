{
 "cells": [
  {
   "cell_type": "code",
   "execution_count": 1,
   "metadata": {},
   "outputs": [
    {
     "name": "stderr",
     "output_type": "stream",
     "text": [
      "2024-04-14 17:02:31.320489: I tensorflow/core/platform/cpu_feature_guard.cc:210] This TensorFlow binary is optimized to use available CPU instructions in performance-critical operations.\n",
      "To enable the following instructions: AVX2 FMA, in other operations, rebuild TensorFlow with the appropriate compiler flags.\n"
     ]
    }
   ],
   "source": [
    "from tensorflow.keras import backend as K  # type: ignore\n",
    "import tensorflow as tf\n",
    "import os\n",
    "os.environ['TF_CPP_MIN_LOG_LEVEL'] = '1' # delete alert message from Tensorflow\n",
    "from PIL import Image\n",
    "from tensorflow.keras.preprocessing.image import img_to_array  # type: ignore\n",
    "import numpy as np"
   ]
  },
  {
   "cell_type": "code",
   "execution_count": 2,
   "metadata": {},
   "outputs": [],
   "source": [
    "def dice_coef(y_true, y_pred, smooth=1e-6):\n",
    "    y_pred = tf.argmax(y_pred, axis=-1)\n",
    "\n",
    "    y_true = K.cast(y_true, dtype=K.floatx())\n",
    "    y_pred = K.cast(y_pred, dtype=K.floatx())\n",
    "\n",
    "    y_true_f = K.flatten(y_true)\n",
    "    y_pred_f = K.flatten(y_pred)\n",
    "\n",
    "    intersection = K.sum(y_true_f * y_pred_f)\n",
    "    return (2. * intersection + smooth) / (K.sum(y_true_f)\n",
    "                                           + K.sum(y_pred_f) + smooth)"
   ]
  },
  {
   "cell_type": "code",
   "execution_count": 3,
   "metadata": {},
   "outputs": [],
   "source": [
    "y_true_path = \"../Data/masks/aachen_000000_000019.png\"\n",
    "y_pred_path = \"../Data/masks/aachen_000000_000019.png\""
   ]
  },
  {
   "cell_type": "code",
   "execution_count": 4,
   "metadata": {},
   "outputs": [],
   "source": [
    "input_shape2 = (256, 256, 3)\n",
    "\n",
    "def imgToArray(path):\n",
    "    mask = path\n",
    "    mask = img_to_array(Image.open(y_true_path).resize(input_shape2[:2], Image.NEAREST))\n",
    "    mask = mask.astype(np.uint8)\n",
    "    for x in range(mask.shape[0]):\n",
    "        for y in range(mask.shape[1]):\n",
    "            if (mask[x, y] == [250, 170, 30]).all():\n",
    "                mask[x, y] = 0\n",
    "            elif (mask[x, y] == [0, 0, 142]).all():\n",
    "                mask[x, y] = 1\n",
    "            elif (mask[x, y] == [102, 102, 156]).all():\n",
    "                mask[x, y] = 2\n",
    "            elif (mask[x, y] == [220, 20, 60]).all():\n",
    "                mask[x, y] = 3\n",
    "            elif (mask[x, y] == [153, 153, 153]).all():\n",
    "                mask[x, y] = 4\n",
    "            elif (mask[x, y] == [244, 35, 232]).all():\n",
    "                mask[x, y] = 5\n",
    "            elif (mask[x, y] == [70, 70, 70]).all():\n",
    "                mask[x, y] = 6\n",
    "            elif (mask[x, y] == [70, 130, 180]).all():\n",
    "                mask[x, y] = 7\n",
    "    mask = mask[:, :, 0:1]\n",
    "    return mask"
   ]
  },
  {
   "cell_type": "code",
   "execution_count": 5,
   "metadata": {},
   "outputs": [],
   "source": [
    "y_pred = imgToArray(y_true_path)\n",
    "y_true = imgToArray(y_pred_path)"
   ]
  },
  {
   "cell_type": "code",
   "execution_count": 6,
   "metadata": {},
   "outputs": [
    {
     "data": {
      "text/plain": [
       "(256, 256, 1)"
      ]
     },
     "execution_count": 6,
     "metadata": {},
     "output_type": "execute_result"
    }
   ],
   "source": [
    "y_pred.shape"
   ]
  },
  {
   "cell_type": "code",
   "execution_count": 67,
   "metadata": {},
   "outputs": [],
   "source": [
    "test1 = dice_coef(y_true, y_pred)"
   ]
  },
  {
   "cell_type": "code",
   "execution_count": 68,
   "metadata": {},
   "outputs": [
    {
     "name": "stdout",
     "output_type": "stream",
     "text": [
      "tf.Tensor(6.154755e-12, shape=(), dtype=float32)\n"
     ]
    }
   ],
   "source": [
    "print(test1)"
   ]
  },
  {
   "cell_type": "code",
   "execution_count": 43,
   "metadata": {},
   "outputs": [],
   "source": [
    "import tensorflow.keras.backend as K\n",
    "\n",
    "def DiceLoss(y_true, y_pred, smooth=1e-6):\n",
    "    y_true = K.cast(y_true, 'float32')\n",
    "    y_pred = K.cast(y_pred, 'float32')\n",
    "    \n",
    "    inputs = K.flatten(y_pred)\n",
    "    targets = K.flatten(y_true)\n",
    "    \n",
    "    intersection = K.sum(K.dot(targets, inputs))\n",
    "    dice = (2*intersection + smooth) / (K.sum(targets) + K.sum(inputs) + smooth)\n",
    "    return 1 - dice"
   ]
  },
  {
   "cell_type": "code",
   "execution_count": 48,
   "metadata": {},
   "outputs": [],
   "source": [
    "def DiceLoss(y_true, y_pred, smooth=1e-6):\n",
    "    y_true = K.cast(y_true, 'float32')\n",
    "    y_pred = K.cast(y_pred, 'float32')\n",
    "    \n",
    "    inputs = K.flatten(y_pred)\n",
    "    targets = K.flatten(y_true)\n",
    "\n",
    "    # Ajouter une dimension supplémentaire\n",
    "    targets = K.expand_dims(targets, axis=-1)\n",
    "    inputs = K.expand_dims(inputs, axis=-1)\n",
    "    \n",
    "    intersection = K.sum(targets * inputs)\n",
    "    return (2*intersection + smooth) / (K.sum(targets) + K.sum(inputs) + smooth)\n"
   ]
  },
  {
   "cell_type": "code",
   "execution_count": 49,
   "metadata": {},
   "outputs": [
    {
     "name": "stdout",
     "output_type": "stream",
     "text": [
      "Dice Loss: tf.Tensor(1.0, shape=(), dtype=float32)\n"
     ]
    }
   ],
   "source": [
    "y_true = np.array([[0, 1, 1],\n",
    "                    [1, 0, 1],\n",
    "                    [0, 0, 1]])\n",
    "\n",
    "y_pred = np.array([[0.2, 0.8, 0.6],\n",
    "                    [0.7, 0.3, 0.5],\n",
    "                    [0.1, 0.4, 0.9]])\n",
    "\n",
    "y_pred = np.array([[0, 1, 1],\n",
    "                    [1, 0, 1],\n",
    "                    [0, 0, 1]])\n",
    "\n",
    "# Tester la fonction DiceLoss\n",
    "loss = DiceLoss(y_true, y_pred)\n",
    "print(\"Dice Loss:\", loss)"
   ]
  },
  {
   "cell_type": "code",
   "execution_count": null,
   "metadata": {},
   "outputs": [],
   "source": []
  }
 ],
 "metadata": {
  "kernelspec": {
   "display_name": "VisionTransport",
   "language": "python",
   "name": "python3"
  },
  "language_info": {
   "codemirror_mode": {
    "name": "ipython",
    "version": 3
   },
   "file_extension": ".py",
   "mimetype": "text/x-python",
   "name": "python",
   "nbconvert_exporter": "python",
   "pygments_lexer": "ipython3",
   "version": "3.10.9"
  }
 },
 "nbformat": 4,
 "nbformat_minor": 2
}
