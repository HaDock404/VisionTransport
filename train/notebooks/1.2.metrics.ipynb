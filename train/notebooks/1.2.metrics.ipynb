{
 "cells": [
  {
   "cell_type": "code",
   "execution_count": 1,
   "metadata": {},
   "outputs": [
    {
     "name": "stderr",
     "output_type": "stream",
     "text": [
      "2024-04-20 10:44:36.558339: I tensorflow/core/platform/cpu_feature_guard.cc:210] This TensorFlow binary is optimized to use available CPU instructions in performance-critical operations.\n",
      "To enable the following instructions: AVX2 FMA, in other operations, rebuild TensorFlow with the appropriate compiler flags.\n"
     ]
    }
   ],
   "source": [
    "from tensorflow.keras import backend as K  # type: ignore\n",
    "import tensorflow as tf\n",
    "import os\n",
    "os.environ['TF_CPP_MIN_LOG_LEVEL'] = '1' # delete alert message from Tensorflow\n",
    "from PIL import Image\n",
    "from tensorflow.keras.preprocessing.image import img_to_array  # type: ignore\n",
    "import numpy as np"
   ]
  },
  {
   "cell_type": "code",
   "execution_count": 2,
   "metadata": {},
   "outputs": [],
   "source": [
    "import tensorflow.keras.backend as K"
   ]
  },
  {
   "cell_type": "code",
   "execution_count": 8,
   "metadata": {},
   "outputs": [],
   "source": [
    "def DiceLoss(y_true, y_pred, smooth=1e-6):\n",
    "    y_true = K.cast(y_true, 'float32')\n",
    "    y_pred = K.cast(y_pred, 'float32')\n",
    "    \n",
    "    inputs = K.flatten(y_pred)\n",
    "    targets = K.flatten(y_true)\n",
    "\n",
    "    # Ajouter une dimension supplémentaire\n",
    "    targets = K.expand_dims(targets, axis=-1)\n",
    "    inputs = K.expand_dims(inputs, axis=-1)\n",
    "    \n",
    "    intersection = K.sum(targets * inputs)\n",
    "    dice = (2*intersection + smooth) / (K.sum(targets) + K.sum(inputs) + smooth)\n",
    "\n",
    "    return 1 - dice\n"
   ]
  },
  {
   "cell_type": "code",
   "execution_count": 19,
   "metadata": {},
   "outputs": [
    {
     "name": "stdout",
     "output_type": "stream",
     "text": [
      "Dice Loss: tf.Tensor(0.12500006, shape=(), dtype=float32)\n"
     ]
    }
   ],
   "source": [
    "y_true = np.array([[1, 1, 1],\n",
    "                    [1, 1, 1],\n",
    "                    [1, 1, 1]])\n",
    "\n",
    "y_pred = np.array([[0, 0, 0],\n",
    "                    [0, 0, 0],\n",
    "                    [0, 0, 0]])\n",
    "\n",
    "#y_pred = np.array([[1, 0, 0],\n",
    "#                    [1, 1, 1],\n",
    " #                   [1, 1, 1]])\n",
    "\n",
    "y_pred = np.array([[1, 0, 0],\n",
    "                    [1, 1, 1],\n",
    "                   [1, 1, 1]])\n",
    "\n",
    "# Tester la fonction DiceLoss\n",
    "loss = DiceLoss(y_true, y_pred)\n",
    "print(\"Dice Loss:\", loss)"
   ]
  },
  {
   "cell_type": "code",
   "execution_count": 18,
   "metadata": {},
   "outputs": [
    {
     "name": "stdout",
     "output_type": "stream",
     "text": [
      "Classe 0: Score de Dice = 0.0\n",
      "Classe 1: Score de Dice = 0.875\n",
      "Score de Dice moyen = 0.4375\n"
     ]
    }
   ],
   "source": [
    "import numpy as np\n",
    "from sklearn.metrics import confusion_matrix\n",
    "\n",
    "# Créer des matrices d'exemple pour l'image vérité terrain (ground truth) et la prédiction de segmentation\n",
    "# Remarque : ceci est un exemple simplifié, assurez-vous d'utiliser des valeurs appropriées pour votre application\n",
    "ground_truth = np.array([[0, 1, 1, 0],\n",
    "                         [1, 2, 1, 0],\n",
    "                         [1, 1, 1, 2]])\n",
    "\n",
    "prediction = np.array([[0, 1, 1, 0],\n",
    "                       [1, 1, 2, 0],\n",
    "                       [1, 1, 1, 2]])\n",
    "\n",
    "#######\n",
    "ground_truth = np.array([[1, 1, 1],\n",
    "                    [1, 1, 1],\n",
    "                    [1, 1, 1]])\n",
    "\n",
    "prediction = np.array([[0, 0, 0],\n",
    "                    [0, 0, 0],\n",
    "                    [0, 0, 0]])\n",
    "\n",
    "######\n",
    "prediction = np.array([[1, 0, 0],\n",
    "                    [1, 1, 1],\n",
    "                   [1, 1, 1]])\n",
    "\n",
    "# Calculer la matrice de confusion\n",
    "conf_matrix = confusion_matrix(ground_truth.flatten(), prediction.flatten())\n",
    "\n",
    "# Calculer le score de Dice pour chaque classe\n",
    "dice_scores = []\n",
    "for i in range(conf_matrix.shape[0]):\n",
    "    TP = conf_matrix[i, i]\n",
    "    FP = np.sum(conf_matrix[:, i]) - TP\n",
    "    FN = np.sum(conf_matrix[i, :]) - TP\n",
    "    dice_score = 2 * TP / (2 * TP + FP + FN)\n",
    "    dice_scores.append(dice_score)\n",
    "\n",
    "# Afficher les scores de Dice pour chaque classe\n",
    "for i, score in enumerate(dice_scores):\n",
    "    print(f\"Classe {i}: Score de Dice = {score}\")\n",
    "\n",
    "# Calculer le score de Dice moyen\n",
    "mean_dice_score = np.mean(dice_scores)\n",
    "print(f\"Score de Dice moyen = {mean_dice_score}\")\n"
   ]
  },
  {
   "cell_type": "code",
   "execution_count": 3,
   "metadata": {},
   "outputs": [
    {
     "name": "stderr",
     "output_type": "stream",
     "text": [
      "2024-04-20 15:08:06.663994: I tensorflow/core/platform/cpu_feature_guard.cc:210] This TensorFlow binary is optimized to use available CPU instructions in performance-critical operations.\n",
      "To enable the following instructions: AVX2 FMA, in other operations, rebuild TensorFlow with the appropriate compiler flags.\n"
     ]
    },
    {
     "name": "stdout",
     "output_type": "stream",
     "text": [
      "Tenseur TensorFlow :\n",
      "tf.Tensor(\n",
      "[[1 2 3]\n",
      " [4 5 6]], shape=(2, 3), dtype=int64)\n"
     ]
    }
   ],
   "source": [
    "# Suppose arr est votre tableau numpy\n",
    "import numpy as np\n",
    "import tensorflow as tf\n",
    "\n",
    "arr = np.array([[1, 2, 3],\n",
    "                [4, 5, 6]])\n",
    "\n",
    "# Convertir le tableau en tenseur TensorFlow\n",
    "tensor = tf.convert_to_tensor(arr)\n",
    "\n",
    "# Afficher le tenseur\n",
    "print(\"Tenseur TensorFlow :\")\n",
    "print(tensor)"
   ]
  },
  {
   "cell_type": "code",
   "execution_count": 4,
   "metadata": {},
   "outputs": [
    {
     "data": {
      "text/plain": [
       "array([[1, 2, 3],\n",
       "       [4, 5, 6]])"
      ]
     },
     "execution_count": 4,
     "metadata": {},
     "output_type": "execute_result"
    }
   ],
   "source": [
    "test = tensor.numpy()\n",
    "test"
   ]
  },
  {
   "cell_type": "code",
   "execution_count": 5,
   "metadata": {},
   "outputs": [
    {
     "ename": "AttributeError",
     "evalue": "module 'tensorflow' has no attribute 'placeholder'",
     "output_type": "error",
     "traceback": [
      "\u001b[0;31m---------------------------------------------------------------------------\u001b[0m",
      "\u001b[0;31mAttributeError\u001b[0m                            Traceback (most recent call last)",
      "Cell \u001b[0;32mIn[5], line 9\u001b[0m\n\u001b[1;32m      5\u001b[0m arr \u001b[38;5;241m=\u001b[39m np\u001b[38;5;241m.\u001b[39marray([[\u001b[38;5;241m1\u001b[39m, \u001b[38;5;241m2\u001b[39m, \u001b[38;5;241m3\u001b[39m],\n\u001b[1;32m      6\u001b[0m                 [\u001b[38;5;241m4\u001b[39m, \u001b[38;5;241m5\u001b[39m, \u001b[38;5;241m6\u001b[39m]])\n\u001b[1;32m      8\u001b[0m \u001b[38;5;66;03m# Créer un tenseur symbolique avec la même forme que le tableau\u001b[39;00m\n\u001b[0;32m----> 9\u001b[0m placeholder_tensor \u001b[38;5;241m=\u001b[39m \u001b[43mtf\u001b[49m\u001b[38;5;241;43m.\u001b[39;49m\u001b[43mplaceholder\u001b[49m(dtype\u001b[38;5;241m=\u001b[39mtf\u001b[38;5;241m.\u001b[39mfloat32, shape\u001b[38;5;241m=\u001b[39marr\u001b[38;5;241m.\u001b[39mshape)\n\u001b[1;32m     11\u001b[0m \u001b[38;5;66;03m# Vous pouvez également spécifier le dtype si nécessaire, par exemple : tf.placeholder(dtype=tf.int32, shape=arr.shape)\u001b[39;00m\n\u001b[1;32m     12\u001b[0m \n\u001b[1;32m     13\u001b[0m \u001b[38;5;66;03m# Utilisez le tenseur symbolique dans votre modèle TensorFlow\u001b[39;00m\n\u001b[1;32m     14\u001b[0m \u001b[38;5;66;03m# Par exemple, en l'utilisant dans un calcul :\u001b[39;00m\n\u001b[1;32m     15\u001b[0m double_tensor \u001b[38;5;241m=\u001b[39m placeholder_tensor \u001b[38;5;241m*\u001b[39m \u001b[38;5;241m2\u001b[39m\n",
      "\u001b[0;31mAttributeError\u001b[0m: module 'tensorflow' has no attribute 'placeholder'"
     ]
    }
   ],
   "source": [
    "import tensorflow as tf\n",
    "import numpy as np\n",
    "\n",
    "# Suppose arr est votre tableau numpy\n",
    "arr = np.array([[1, 2, 3],\n",
    "                [4, 5, 6]])\n",
    "\n",
    "# Créer un tenseur symbolique avec la même forme que le tableau\n",
    "placeholder_tensor = tf.placeholder(dtype=tf.float32, shape=arr.shape)\n",
    "\n",
    "# Vous pouvez également spécifier le dtype si nécessaire, par exemple : tf.placeholder(dtype=tf.int32, shape=arr.shape)\n",
    "\n",
    "# Utilisez le tenseur symbolique dans votre modèle TensorFlow\n",
    "# Par exemple, en l'utilisant dans un calcul :\n",
    "double_tensor = placeholder_tensor * 2\n",
    "\n",
    "with tf.Session() as sess:\n",
    "    # Alimentez le placeholder avec les données du tableau\n",
    "    result = sess.run(double_tensor, feed_dict={placeholder_tensor: arr})\n",
    "    print(\"Résultat du doublement du tenseur symbolique :\")\n",
    "    print(result)\n"
   ]
  },
  {
   "cell_type": "code",
   "execution_count": 6,
   "metadata": {},
   "outputs": [
    {
     "name": "stdout",
     "output_type": "stream",
     "text": [
      "Résultat du doublement du tenseur symbolique :\n",
      "[[ 2.  4.  6.]\n",
      " [ 8. 10. 12.]]\n"
     ]
    }
   ],
   "source": [
    "import tensorflow as tf\n",
    "import numpy as np\n",
    "\n",
    "# Suppose arr est votre tableau numpy\n",
    "arr = np.array([[1, 2, 3],\n",
    "                [4, 5, 6]])\n",
    "\n",
    "# Créer un tenseur TensorFlow à partir du tableau\n",
    "tensor_symbolic = tf.constant(arr, dtype=tf.float32)\n",
    "\n",
    "# Vous pouvez également spécifier le dtype si nécessaire, par exemple : tf.constant(arr, dtype=tf.int32)\n",
    "\n",
    "# Utilisez le tenseur symbolique dans votre modèle TensorFlow\n",
    "# Par exemple, en l'utilisant dans un calcul :\n",
    "double_tensor = tensor_symbolic * 2\n",
    "\n",
    "print(\"Résultat du doublement du tenseur symbolique :\")\n",
    "print(double_tensor.numpy())  # Convertir le tenseur en numpy array pour l'afficher\n"
   ]
  },
  {
   "cell_type": "code",
   "execution_count": null,
   "metadata": {},
   "outputs": [],
   "source": []
  }
 ],
 "metadata": {
  "kernelspec": {
   "display_name": "VisionTransport",
   "language": "python",
   "name": "python3"
  },
  "language_info": {
   "codemirror_mode": {
    "name": "ipython",
    "version": 3
   },
   "file_extension": ".py",
   "mimetype": "text/x-python",
   "name": "python",
   "nbconvert_exporter": "python",
   "pygments_lexer": "ipython3",
   "version": "3.10.9"
  }
 },
 "nbformat": 4,
 "nbformat_minor": 2
}
