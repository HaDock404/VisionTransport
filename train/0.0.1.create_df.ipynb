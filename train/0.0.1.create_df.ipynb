{
 "cells": [
  {
   "cell_type": "code",
   "execution_count": 4,
   "metadata": {},
   "outputs": [],
   "source": [
    "import numpy as np\n",
    "import json\n",
    "from PIL import Image, ImageDraw\n",
    "import os\n",
    "import pandas as pd\n",
    "pd.set_option('display.max_colwidth', None)"
   ]
  },
  {
   "cell_type": "code",
   "execution_count": 5,
   "metadata": {
    "tags": []
   },
   "outputs": [],
   "source": [
    "train_image_dir = \"./Data/images\"\n",
    "\n",
    "image_paths_train = []\n",
    "\n",
    "for j in os.listdir(train_image_dir):\n",
    "    if j != '.DS_Store':\n",
    "        file_path = os.path.join(train_image_dir, j)\n",
    "        image_paths_train.append(file_path)"
   ]
  },
  {
   "cell_type": "code",
   "execution_count": 6,
   "metadata": {
    "tags": []
   },
   "outputs": [],
   "source": [
    "train_label_dir = \"./Data/masks\"\n",
    "\n",
    "label_paths_train = []\n",
    "\n",
    "for j in os.listdir(train_label_dir):\n",
    "    if j != '.DS_Store':\n",
    "        file_path = os.path.join(train_label_dir, j)\n",
    "        label_paths_train.append(file_path)"
   ]
  },
  {
   "cell_type": "code",
   "execution_count": 7,
   "metadata": {
    "tags": []
   },
   "outputs": [],
   "source": [
    "df_image_paths_train = pd.DataFrame({\"Index\": \"\", \"Image_Path\": image_paths_train})\n",
    "df_label_paths_train = pd.DataFrame({\"Index\": \"\", \"Target_Path\": label_paths_train})"
   ]
  },
  {
   "cell_type": "code",
   "execution_count": 8,
   "metadata": {
    "tags": []
   },
   "outputs": [
    {
     "name": "stdout",
     "output_type": "stream",
     "text": [
      "2976\n",
      "2976\n"
     ]
    }
   ],
   "source": [
    "print(len(df_image_paths_train))# X\n",
    "print(len(df_label_paths_train))# y"
   ]
  },
  {
   "cell_type": "code",
   "execution_count": 9,
   "metadata": {
    "tags": []
   },
   "outputs": [],
   "source": [
    "index_tab = []\n",
    "for el in df_image_paths_train['Image_Path']:\n",
    "    file_name = os.path.splitext(os.path.basename(el))[0]\n",
    "    index_tab.append(file_name)\n",
    "df_image_paths_train['Index'] = index_tab"
   ]
  },
  {
   "cell_type": "code",
   "execution_count": 10,
   "metadata": {
    "tags": []
   },
   "outputs": [],
   "source": [
    "index_tab = []\n",
    "for el in df_label_paths_train['Target_Path']:\n",
    "    file_name = os.path.splitext(os.path.basename(el))[0]\n",
    "    index_tab.append(file_name)\n",
    "df_label_paths_train['Index'] = index_tab"
   ]
  },
  {
   "cell_type": "code",
   "execution_count": 11,
   "metadata": {
    "tags": []
   },
   "outputs": [
    {
     "data": {
      "text/html": [
       "<div>\n",
       "<style scoped>\n",
       "    .dataframe tbody tr th:only-of-type {\n",
       "        vertical-align: middle;\n",
       "    }\n",
       "\n",
       "    .dataframe tbody tr th {\n",
       "        vertical-align: top;\n",
       "    }\n",
       "\n",
       "    .dataframe thead th {\n",
       "        text-align: right;\n",
       "    }\n",
       "</style>\n",
       "<table border=\"1\" class=\"dataframe\">\n",
       "  <thead>\n",
       "    <tr style=\"text-align: right;\">\n",
       "      <th></th>\n",
       "      <th>Index</th>\n",
       "      <th>Image_Path</th>\n",
       "      <th>Target_Path</th>\n",
       "    </tr>\n",
       "  </thead>\n",
       "  <tbody>\n",
       "    <tr>\n",
       "      <th>0</th>\n",
       "      <td>bremen_000037_000019</td>\n",
       "      <td>./Data/images/bremen_000037_000019.png</td>\n",
       "      <td>./Data/masks/bremen_000037_000019.png</td>\n",
       "    </tr>\n",
       "    <tr>\n",
       "      <th>1</th>\n",
       "      <td>ulm_000039_000019</td>\n",
       "      <td>./Data/images/ulm_000039_000019.png</td>\n",
       "      <td>./Data/masks/ulm_000039_000019.png</td>\n",
       "    </tr>\n",
       "    <tr>\n",
       "      <th>2</th>\n",
       "      <td>strasbourg_000001_006562</td>\n",
       "      <td>./Data/images/strasbourg_000001_006562.png</td>\n",
       "      <td>./Data/masks/strasbourg_000001_006562.png</td>\n",
       "    </tr>\n",
       "    <tr>\n",
       "      <th>3</th>\n",
       "      <td>tubingen_000084_000019</td>\n",
       "      <td>./Data/images/tubingen_000084_000019.png</td>\n",
       "      <td>./Data/masks/tubingen_000084_000019.png</td>\n",
       "    </tr>\n",
       "    <tr>\n",
       "      <th>4</th>\n",
       "      <td>bremen_000118_000019</td>\n",
       "      <td>./Data/images/bremen_000118_000019.png</td>\n",
       "      <td>./Data/masks/bremen_000118_000019.png</td>\n",
       "    </tr>\n",
       "    <tr>\n",
       "      <th>...</th>\n",
       "      <td>...</td>\n",
       "      <td>...</td>\n",
       "      <td>...</td>\n",
       "    </tr>\n",
       "    <tr>\n",
       "      <th>2971</th>\n",
       "      <td>strasbourg_000001_033925</td>\n",
       "      <td>./Data/images/strasbourg_000001_033925.png</td>\n",
       "      <td>./Data/masks/strasbourg_000001_033925.png</td>\n",
       "    </tr>\n",
       "    <tr>\n",
       "      <th>2972</th>\n",
       "      <td>aachen_000031_000019</td>\n",
       "      <td>./Data/images/aachen_000031_000019.png</td>\n",
       "      <td>./Data/masks/aachen_000031_000019.png</td>\n",
       "    </tr>\n",
       "    <tr>\n",
       "      <th>2973</th>\n",
       "      <td>aachen_000120_000019</td>\n",
       "      <td>./Data/images/aachen_000120_000019.png</td>\n",
       "      <td>./Data/masks/aachen_000120_000019.png</td>\n",
       "    </tr>\n",
       "    <tr>\n",
       "      <th>2974</th>\n",
       "      <td>stuttgart_000073_000019</td>\n",
       "      <td>./Data/images/stuttgart_000073_000019.png</td>\n",
       "      <td>./Data/masks/stuttgart_000073_000019.png</td>\n",
       "    </tr>\n",
       "    <tr>\n",
       "      <th>2975</th>\n",
       "      <td>bremen_000203_000019</td>\n",
       "      <td>./Data/images/bremen_000203_000019.png</td>\n",
       "      <td>./Data/masks/bremen_000203_000019.png</td>\n",
       "    </tr>\n",
       "  </tbody>\n",
       "</table>\n",
       "<p>2976 rows × 3 columns</p>\n",
       "</div>"
      ],
      "text/plain": [
       "                         Index                                  Image_Path  \\\n",
       "0         bremen_000037_000019      ./Data/images/bremen_000037_000019.png   \n",
       "1            ulm_000039_000019         ./Data/images/ulm_000039_000019.png   \n",
       "2     strasbourg_000001_006562  ./Data/images/strasbourg_000001_006562.png   \n",
       "3       tubingen_000084_000019    ./Data/images/tubingen_000084_000019.png   \n",
       "4         bremen_000118_000019      ./Data/images/bremen_000118_000019.png   \n",
       "...                        ...                                         ...   \n",
       "2971  strasbourg_000001_033925  ./Data/images/strasbourg_000001_033925.png   \n",
       "2972      aachen_000031_000019      ./Data/images/aachen_000031_000019.png   \n",
       "2973      aachen_000120_000019      ./Data/images/aachen_000120_000019.png   \n",
       "2974   stuttgart_000073_000019   ./Data/images/stuttgart_000073_000019.png   \n",
       "2975      bremen_000203_000019      ./Data/images/bremen_000203_000019.png   \n",
       "\n",
       "                                    Target_Path  \n",
       "0         ./Data/masks/bremen_000037_000019.png  \n",
       "1            ./Data/masks/ulm_000039_000019.png  \n",
       "2     ./Data/masks/strasbourg_000001_006562.png  \n",
       "3       ./Data/masks/tubingen_000084_000019.png  \n",
       "4         ./Data/masks/bremen_000118_000019.png  \n",
       "...                                         ...  \n",
       "2971  ./Data/masks/strasbourg_000001_033925.png  \n",
       "2972      ./Data/masks/aachen_000031_000019.png  \n",
       "2973      ./Data/masks/aachen_000120_000019.png  \n",
       "2974   ./Data/masks/stuttgart_000073_000019.png  \n",
       "2975      ./Data/masks/bremen_000203_000019.png  \n",
       "\n",
       "[2976 rows x 3 columns]"
      ]
     },
     "execution_count": 11,
     "metadata": {},
     "output_type": "execute_result"
    }
   ],
   "source": [
    "df_train = pd.merge(df_image_paths_train, df_label_paths_train, on='Index', how='left')\n",
    "df_train"
   ]
  },
  {
   "cell_type": "code",
   "execution_count": 12,
   "metadata": {},
   "outputs": [],
   "source": [
    "val_image_dir = \"./Data/images_val\"\n",
    "\n",
    "image_paths_val = []\n",
    "\n",
    "for j in os.listdir(val_image_dir):\n",
    "    if j != '.DS_Store':\n",
    "        file_path = os.path.join(val_image_dir, j)\n",
    "        image_paths_val.append(file_path)"
   ]
  },
  {
   "cell_type": "code",
   "execution_count": 15,
   "metadata": {
    "tags": []
   },
   "outputs": [],
   "source": [
    "val_label_dir = \"./Data/masks_val\"\n",
    "\n",
    "label_paths_val = []\n",
    "\n",
    "for j in os.listdir(val_label_dir):\n",
    "    if j != '.DS_Store':\n",
    "        file_path = os.path.join(val_label_dir, j)\n",
    "        label_paths_val.append(file_path)"
   ]
  },
  {
   "cell_type": "code",
   "execution_count": 16,
   "metadata": {
    "tags": []
   },
   "outputs": [],
   "source": [
    "df_image_paths_val = pd.DataFrame({\"Index\": \"\", \"Image_Path\": image_paths_val})\n",
    "df_label_paths_val = pd.DataFrame({\"Index\": \"\", \"Target_Path\": label_paths_val})"
   ]
  },
  {
   "cell_type": "code",
   "execution_count": 17,
   "metadata": {
    "tags": []
   },
   "outputs": [
    {
     "name": "stdout",
     "output_type": "stream",
     "text": [
      "500\n",
      "500\n"
     ]
    }
   ],
   "source": [
    "print(len(df_image_paths_val))# X\n",
    "print(len(df_label_paths_val))# y"
   ]
  },
  {
   "cell_type": "code",
   "execution_count": 18,
   "metadata": {
    "tags": []
   },
   "outputs": [],
   "source": [
    "index_tab = []\n",
    "for el in df_image_paths_val['Image_Path']:\n",
    "    file_name = os.path.splitext(os.path.basename(el))[0]\n",
    "    index_tab.append(file_name)\n",
    "df_image_paths_val['Index'] = index_tab"
   ]
  },
  {
   "cell_type": "code",
   "execution_count": 19,
   "metadata": {
    "tags": []
   },
   "outputs": [],
   "source": [
    "index_tab = []\n",
    "for el in df_label_paths_val['Target_Path']:\n",
    "    file_name = os.path.splitext(os.path.basename(el))[0]\n",
    "    index_tab.append(file_name)\n",
    "df_label_paths_val['Index'] = index_tab"
   ]
  },
  {
   "cell_type": "code",
   "execution_count": 20,
   "metadata": {
    "tags": []
   },
   "outputs": [
    {
     "data": {
      "text/html": [
       "<div>\n",
       "<style scoped>\n",
       "    .dataframe tbody tr th:only-of-type {\n",
       "        vertical-align: middle;\n",
       "    }\n",
       "\n",
       "    .dataframe tbody tr th {\n",
       "        vertical-align: top;\n",
       "    }\n",
       "\n",
       "    .dataframe thead th {\n",
       "        text-align: right;\n",
       "    }\n",
       "</style>\n",
       "<table border=\"1\" class=\"dataframe\">\n",
       "  <thead>\n",
       "    <tr style=\"text-align: right;\">\n",
       "      <th></th>\n",
       "      <th>Index</th>\n",
       "      <th>Image_Path</th>\n",
       "      <th>Target_Path</th>\n",
       "    </tr>\n",
       "  </thead>\n",
       "  <tbody>\n",
       "    <tr>\n",
       "      <th>0</th>\n",
       "      <td>frankfurt_000001_076502</td>\n",
       "      <td>./Data/images_val/frankfurt_000001_076502.png</td>\n",
       "      <td>./Data/masks_val/frankfurt_000001_076502.png</td>\n",
       "    </tr>\n",
       "    <tr>\n",
       "      <th>1</th>\n",
       "      <td>frankfurt_000001_042384</td>\n",
       "      <td>./Data/images_val/frankfurt_000001_042384.png</td>\n",
       "      <td>./Data/masks_val/frankfurt_000001_042384.png</td>\n",
       "    </tr>\n",
       "    <tr>\n",
       "      <th>2</th>\n",
       "      <td>frankfurt_000001_072295</td>\n",
       "      <td>./Data/images_val/frankfurt_000001_072295.png</td>\n",
       "      <td>./Data/masks_val/frankfurt_000001_072295.png</td>\n",
       "    </tr>\n",
       "    <tr>\n",
       "      <th>3</th>\n",
       "      <td>frankfurt_000001_048654</td>\n",
       "      <td>./Data/images_val/frankfurt_000001_048654.png</td>\n",
       "      <td>./Data/masks_val/frankfurt_000001_048654.png</td>\n",
       "    </tr>\n",
       "    <tr>\n",
       "      <th>4</th>\n",
       "      <td>munster_000135_000019</td>\n",
       "      <td>./Data/images_val/munster_000135_000019.png</td>\n",
       "      <td>./Data/masks_val/munster_000135_000019.png</td>\n",
       "    </tr>\n",
       "    <tr>\n",
       "      <th>...</th>\n",
       "      <td>...</td>\n",
       "      <td>...</td>\n",
       "      <td>...</td>\n",
       "    </tr>\n",
       "    <tr>\n",
       "      <th>495</th>\n",
       "      <td>lindau_000000_000019</td>\n",
       "      <td>./Data/images_val/lindau_000000_000019.png</td>\n",
       "      <td>./Data/masks_val/lindau_000000_000019.png</td>\n",
       "    </tr>\n",
       "    <tr>\n",
       "      <th>496</th>\n",
       "      <td>frankfurt_000001_021406</td>\n",
       "      <td>./Data/images_val/frankfurt_000001_021406.png</td>\n",
       "      <td>./Data/masks_val/frankfurt_000001_021406.png</td>\n",
       "    </tr>\n",
       "    <tr>\n",
       "      <th>497</th>\n",
       "      <td>munster_000096_000019</td>\n",
       "      <td>./Data/images_val/munster_000096_000019.png</td>\n",
       "      <td>./Data/masks_val/munster_000096_000019.png</td>\n",
       "    </tr>\n",
       "    <tr>\n",
       "      <th>498</th>\n",
       "      <td>munster_000140_000019</td>\n",
       "      <td>./Data/images_val/munster_000140_000019.png</td>\n",
       "      <td>./Data/masks_val/munster_000140_000019.png</td>\n",
       "    </tr>\n",
       "    <tr>\n",
       "      <th>499</th>\n",
       "      <td>frankfurt_000001_003056</td>\n",
       "      <td>./Data/images_val/frankfurt_000001_003056.png</td>\n",
       "      <td>./Data/masks_val/frankfurt_000001_003056.png</td>\n",
       "    </tr>\n",
       "  </tbody>\n",
       "</table>\n",
       "<p>500 rows × 3 columns</p>\n",
       "</div>"
      ],
      "text/plain": [
       "                       Index                                     Image_Path  \\\n",
       "0    frankfurt_000001_076502  ./Data/images_val/frankfurt_000001_076502.png   \n",
       "1    frankfurt_000001_042384  ./Data/images_val/frankfurt_000001_042384.png   \n",
       "2    frankfurt_000001_072295  ./Data/images_val/frankfurt_000001_072295.png   \n",
       "3    frankfurt_000001_048654  ./Data/images_val/frankfurt_000001_048654.png   \n",
       "4      munster_000135_000019    ./Data/images_val/munster_000135_000019.png   \n",
       "..                       ...                                            ...   \n",
       "495     lindau_000000_000019     ./Data/images_val/lindau_000000_000019.png   \n",
       "496  frankfurt_000001_021406  ./Data/images_val/frankfurt_000001_021406.png   \n",
       "497    munster_000096_000019    ./Data/images_val/munster_000096_000019.png   \n",
       "498    munster_000140_000019    ./Data/images_val/munster_000140_000019.png   \n",
       "499  frankfurt_000001_003056  ./Data/images_val/frankfurt_000001_003056.png   \n",
       "\n",
       "                                      Target_Path  \n",
       "0    ./Data/masks_val/frankfurt_000001_076502.png  \n",
       "1    ./Data/masks_val/frankfurt_000001_042384.png  \n",
       "2    ./Data/masks_val/frankfurt_000001_072295.png  \n",
       "3    ./Data/masks_val/frankfurt_000001_048654.png  \n",
       "4      ./Data/masks_val/munster_000135_000019.png  \n",
       "..                                            ...  \n",
       "495     ./Data/masks_val/lindau_000000_000019.png  \n",
       "496  ./Data/masks_val/frankfurt_000001_021406.png  \n",
       "497    ./Data/masks_val/munster_000096_000019.png  \n",
       "498    ./Data/masks_val/munster_000140_000019.png  \n",
       "499  ./Data/masks_val/frankfurt_000001_003056.png  \n",
       "\n",
       "[500 rows x 3 columns]"
      ]
     },
     "execution_count": 20,
     "metadata": {},
     "output_type": "execute_result"
    }
   ],
   "source": [
    "df_val = pd.merge(df_image_paths_val, df_label_paths_val, on='Index', how='left')\n",
    "df_val"
   ]
  },
  {
   "cell_type": "code",
   "execution_count": 21,
   "metadata": {
    "tags": []
   },
   "outputs": [],
   "source": [
    "dataset = './Data/df_train.csv'\n",
    "df_train.to_csv(dataset, index=False)\n",
    "dataset = './Data/df_val.csv'\n",
    "df_val.to_csv(dataset, index=False)"
   ]
  },
  {
   "cell_type": "code",
   "execution_count": null,
   "metadata": {},
   "outputs": [],
   "source": []
  }
 ],
 "metadata": {
  "kernelspec": {
   "display_name": "conda_visiontransport",
   "language": "python",
   "name": "conda_visiontransport"
  },
  "language_info": {
   "codemirror_mode": {
    "name": "ipython",
    "version": 3
   },
   "file_extension": ".py",
   "mimetype": "text/x-python",
   "name": "python",
   "nbconvert_exporter": "python",
   "pygments_lexer": "ipython3",
   "version": "3.10.9"
  }
 },
 "nbformat": 4,
 "nbformat_minor": 4
}
