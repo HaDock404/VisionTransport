{
 "cells": [
  {
   "cell_type": "code",
   "execution_count": 1,
   "metadata": {},
   "outputs": [],
   "source": [
    "import boto3\n",
    "import os"
   ]
  },
  {
   "cell_type": "code",
   "execution_count": 2,
   "metadata": {
    "tags": []
   },
   "outputs": [],
   "source": [
    "#Images Validation\n",
    "\n",
    "s3 = boto3.client('s3')\n",
    "bucket_name = 'visiontransportval-hadock404'\n",
    "\n",
    "paginator = s3.get_paginator('list_objects_v2')\n",
    "pages = paginator.paginate(Bucket=bucket_name)\n",
    "\n",
    "test_TAB = []\n",
    "\n",
    "for page in pages:\n",
    "    for obj in page['Contents']:\n",
    "        key = obj['Key']\n",
    "        test_TAB.append(key)\n",
    "        file_path = os.path.splitext(os.path.basename(key))[0]\n",
    "        file_path = file_path.replace(\"_leftImg8bit\", \"\")\n",
    "        s3.download_file(bucket_name, key, f\"./Data/images_val/{file_path}.png\")\n",
    "        #print(file_path)\n",
    "#print(len(test_TAB))"
   ]
  },
  {
   "cell_type": "code",
   "execution_count": 3,
   "metadata": {
    "tags": []
   },
   "outputs": [],
   "source": [
    "#Mask Validation\n",
    "\n",
    "s3 = boto3.client('s3')\n",
    "bucket_name = 'visiontransportvalmask-hadock404'\n",
    "\n",
    "paginator = s3.get_paginator('list_objects_v2')\n",
    "pages = paginator.paginate(Bucket=bucket_name)\n",
    "\n",
    "test_TAB = []\n",
    "\n",
    "for page in pages:\n",
    "    for obj in page['Contents']:\n",
    "        key = obj['Key']\n",
    "        test_TAB.append(key)\n",
    "        file_path = os.path.splitext(os.path.basename(key))[0]\n",
    "        file_path = file_path.replace(\"_leftImg8bit\", \"\")\n",
    "        s3.download_file(bucket_name, key, f\"./Data/masks_val/{file_path}.png\")\n",
    "        #print(file_path)\n",
    "#print(len(test_TAB))"
   ]
  },
  {
   "cell_type": "code",
   "execution_count": 4,
   "metadata": {
    "tags": []
   },
   "outputs": [],
   "source": [
    "#Images\n",
    "\n",
    "s3 = boto3.client('s3')\n",
    "bucket_name = 'visiontransport-hadock404'\n",
    "\n",
    "paginator = s3.get_paginator('list_objects_v2')\n",
    "pages = paginator.paginate(Bucket=bucket_name)\n",
    "\n",
    "test_TAB = []\n",
    "\n",
    "for page in pages:\n",
    "    for obj in page['Contents']:\n",
    "        key = obj['Key']\n",
    "        test_TAB.append(key)\n",
    "        file_path = os.path.splitext(os.path.basename(key))[0]\n",
    "        file_path = file_path.replace(\"_leftImg8bit\", \"\")\n",
    "        s3.download_file(bucket_name, key, f\"./Data/images/{file_path}.png\")\n",
    "        #print(file_path)\n",
    "#print(len(test_TAB))"
   ]
  },
  {
   "cell_type": "code",
   "execution_count": 5,
   "metadata": {
    "tags": []
   },
   "outputs": [],
   "source": [
    "#Masks\n",
    "\n",
    "s3 = boto3.client('s3')\n",
    "bucket_name = 'visiontransportmask-hadock404'\n",
    "\n",
    "paginator = s3.get_paginator('list_objects_v2')\n",
    "pages = paginator.paginate(Bucket=bucket_name)\n",
    "\n",
    "test_TAB = []\n",
    "\n",
    "for page in pages:\n",
    "    for obj in page['Contents']:\n",
    "        key = obj['Key']\n",
    "        test_TAB.append(key)\n",
    "        file_path = os.path.splitext(os.path.basename(key))[0]\n",
    "        file_path = file_path.replace(\"_leftImg8bit\", \"\")\n",
    "        s3.download_file(bucket_name, key, f\"./Data/masks/{file_path}.png\")\n",
    "        #print(file_path)\n",
    "#print(len(test_TAB))"
   ]
  },
  {
   "cell_type": "code",
   "execution_count": null,
   "metadata": {},
   "outputs": [],
   "source": []
  }
 ],
 "metadata": {
  "kernelspec": {
   "display_name": "conda_visiontransport",
   "language": "python",
   "name": "conda_visiontransport"
  },
  "language_info": {
   "codemirror_mode": {
    "name": "ipython",
    "version": 3
   },
   "file_extension": ".py",
   "mimetype": "text/x-python",
   "name": "python",
   "nbconvert_exporter": "python",
   "pygments_lexer": "ipython3",
   "version": "3.10.9"
  }
 },
 "nbformat": 4,
 "nbformat_minor": 4
}
