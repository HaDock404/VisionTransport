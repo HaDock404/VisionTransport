{
 "cells": [
  {
   "cell_type": "code",
   "execution_count": 2,
   "metadata": {},
   "outputs": [],
   "source": [
    "import numpy as np"
   ]
  },
  {
   "cell_type": "code",
   "execution_count": 3,
   "metadata": {},
   "outputs": [],
   "source": [
    "def data_generator(batch_size=32, num_samples=1000):\n",
    "    # Exemple de données, remplacez cela par vos propres données\n",
    "    features = np.random.rand(num_samples, 10)\n",
    "    labels = np.random.randint(2, size=(num_samples,))\n",
    "\n",
    "    # Boucle infinie pour générer des lots de données\n",
    "    while True:\n",
    "        # Mélanger les données à chaque époque\n",
    "        indices = np.random.permutation(num_samples)\n",
    "        features_shuffled = features[indices]\n",
    "        labels_shuffled = labels[indices]\n",
    "\n",
    "        # Générer des lots de données\n",
    "        for i in range(0, num_samples, batch_size):\n",
    "            batch_features = features_shuffled[i:i+batch_size]\n",
    "            batch_labels = labels_shuffled[i:i+batch_size]\n",
    "\n",
    "            yield batch_features, batch_labels"
   ]
  },
  {
   "cell_type": "code",
   "execution_count": 4,
   "metadata": {},
   "outputs": [
    {
     "name": "stdout",
     "output_type": "stream",
     "text": [
      "Époque 1\n",
      "Époque 2\n",
      "Époque 3\n"
     ]
    }
   ],
   "source": [
    "# Utilisation du générateur\n",
    "batch_size = 32\n",
    "num_samples = 1000\n",
    "\n",
    "generator = data_generator(batch_size=batch_size, num_samples=num_samples)\n",
    "\n",
    "# Exemple d'utilisation pour une époque\n",
    "for epoch in range(3):  # Trois époques pour l'exemple\n",
    "    print(f\"Époque {epoch + 1}\")\n",
    "    for step in range(num_samples // batch_size):\n",
    "        batch_features, batch_labels = next(generator)\n",
    "        # Faire quelque chose avec le lot de données, par exemple entraîner un modèle\n",
    "        # (remplacez cette partie par votre propre logique d'entraînement)\n",
    "        # model.train_on_batch(batch_features, batch_labels)"
   ]
  },
  {
   "cell_type": "code",
   "execution_count": 18,
   "metadata": {},
   "outputs": [],
   "source": [
    "def test1():\n",
    "    for i in [0, 1, 2, 3]:\n",
    "        yield i"
   ]
  },
  {
   "cell_type": "code",
   "execution_count": 19,
   "metadata": {},
   "outputs": [
    {
     "data": {
      "text/plain": [
       "<generator object test1 at 0x7f9233ae57e0>"
      ]
     },
     "execution_count": 19,
     "metadata": {},
     "output_type": "execute_result"
    }
   ],
   "source": [
    "test1()"
   ]
  },
  {
   "cell_type": "code",
   "execution_count": 20,
   "metadata": {},
   "outputs": [
    {
     "name": "stdout",
     "output_type": "stream",
     "text": [
      "<generator object test1 at 0x7f9233ae58c0>\n"
     ]
    }
   ],
   "source": [
    "x = test1()\n",
    "print(x)"
   ]
  },
  {
   "cell_type": "code",
   "execution_count": 21,
   "metadata": {},
   "outputs": [
    {
     "name": "stdout",
     "output_type": "stream",
     "text": [
      "0\n",
      "1\n",
      "2\n",
      "3\n",
      "4\n",
      "5\n",
      "6\n",
      "7\n",
      "8\n",
      "9\n"
     ]
    }
   ],
   "source": [
    "for i in range(10):\n",
    "    print(i)"
   ]
  },
  {
   "cell_type": "code",
   "execution_count": 22,
   "metadata": {},
   "outputs": [],
   "source": [
    "def infinite_sequence():\n",
    "    num = 0\n",
    "    while True:\n",
    "        yield num\n",
    "        num += 1"
   ]
  },
  {
   "cell_type": "code",
   "execution_count": 23,
   "metadata": {},
   "outputs": [],
   "source": [
    "gen = infinite_sequence()"
   ]
  },
  {
   "cell_type": "code",
   "execution_count": 24,
   "metadata": {},
   "outputs": [
    {
     "data": {
      "text/plain": [
       "0"
      ]
     },
     "execution_count": 24,
     "metadata": {},
     "output_type": "execute_result"
    }
   ],
   "source": [
    "next(gen)"
   ]
  },
  {
   "cell_type": "code",
   "execution_count": 25,
   "metadata": {},
   "outputs": [
    {
     "data": {
      "text/plain": [
       "1"
      ]
     },
     "execution_count": 25,
     "metadata": {},
     "output_type": "execute_result"
    }
   ],
   "source": [
    "next(gen)"
   ]
  },
  {
   "cell_type": "code",
   "execution_count": 26,
   "metadata": {},
   "outputs": [
    {
     "data": {
      "text/plain": [
       "2"
      ]
     },
     "execution_count": 26,
     "metadata": {},
     "output_type": "execute_result"
    }
   ],
   "source": [
    "next(gen)"
   ]
  },
  {
   "cell_type": "code",
   "execution_count": 28,
   "metadata": {},
   "outputs": [],
   "source": [
    "testX = data_generator()"
   ]
  },
  {
   "cell_type": "code",
   "execution_count": 29,
   "metadata": {},
   "outputs": [
    {
     "data": {
      "text/plain": [
       "(array([[7.90004931e-01, 2.21036938e-01, 7.70758555e-01, 3.80323921e-02,\n",
       "         2.53051186e-01, 1.59198897e-01, 3.86351109e-01, 3.10196746e-01,\n",
       "         3.78373848e-01, 7.49420571e-01],\n",
       "        [7.85816836e-01, 6.77865474e-01, 5.68920420e-01, 1.91894342e-01,\n",
       "         2.56044591e-01, 8.04384219e-01, 2.39394200e-01, 3.37782201e-01,\n",
       "         3.54071439e-01, 5.47764970e-01],\n",
       "        [7.38908838e-01, 2.21007841e-01, 6.09137456e-01, 6.30141593e-01,\n",
       "         9.63767490e-01, 9.78961604e-01, 4.89393047e-01, 3.24532160e-01,\n",
       "         3.12304762e-01, 6.71360490e-01],\n",
       "        [7.25071191e-01, 8.95417373e-01, 1.90987074e-01, 2.66174320e-01,\n",
       "         6.36962382e-01, 7.08040563e-02, 2.17499333e-01, 6.11822963e-01,\n",
       "         1.34821217e-01, 8.10165582e-01],\n",
       "        [6.79990864e-01, 9.86279409e-01, 3.60192479e-01, 8.89006812e-01,\n",
       "         6.23369284e-02, 7.44226229e-01, 2.16727606e-01, 7.72990960e-01,\n",
       "         5.65522779e-01, 3.79925794e-02],\n",
       "        [8.55627794e-01, 8.61538383e-01, 1.87629448e-01, 3.02956371e-01,\n",
       "         7.64551959e-01, 4.38497295e-02, 6.09042015e-01, 9.58790185e-01,\n",
       "         8.58017818e-01, 4.87378434e-01],\n",
       "        [7.62183397e-01, 7.68529150e-01, 2.74603530e-01, 7.26115309e-01,\n",
       "         6.93124525e-01, 1.45890996e-01, 3.14057043e-01, 2.29226742e-01,\n",
       "         2.01503359e-01, 9.59271959e-01],\n",
       "        [9.50449518e-01, 2.24226222e-01, 8.51787094e-01, 3.46484503e-01,\n",
       "         3.75795530e-01, 1.80363234e-01, 3.38728770e-01, 6.09448455e-01,\n",
       "         2.37033841e-01, 3.34025311e-01],\n",
       "        [1.44174537e-01, 5.32485204e-03, 4.13618733e-01, 4.07641164e-01,\n",
       "         9.64119347e-01, 9.73522570e-01, 9.48569993e-01, 4.50103963e-01,\n",
       "         5.92565208e-01, 8.04975842e-02],\n",
       "        [2.55637764e-01, 7.00864714e-01, 3.77997837e-01, 3.44749029e-01,\n",
       "         3.22281470e-01, 5.45518784e-01, 8.86935343e-01, 6.39721860e-01,\n",
       "         6.46651378e-01, 4.89008840e-01],\n",
       "        [7.63002148e-02, 3.42077161e-01, 6.36234168e-01, 4.96206805e-01,\n",
       "         3.11540242e-01, 5.25278779e-01, 3.20452194e-01, 9.10291427e-02,\n",
       "         9.22470234e-01, 7.48955421e-01],\n",
       "        [7.67780840e-01, 3.14348960e-01, 5.03335709e-01, 6.52813561e-01,\n",
       "         8.77038697e-01, 3.83092624e-01, 9.06876150e-01, 4.71090766e-01,\n",
       "         7.70461441e-01, 3.16633392e-01],\n",
       "        [1.25447829e-01, 3.15161381e-01, 4.39039244e-01, 1.88014284e-01,\n",
       "         4.39477264e-01, 8.01489907e-01, 5.27916007e-01, 7.53155932e-01,\n",
       "         1.52698153e-01, 8.53651130e-01],\n",
       "        [8.38887474e-01, 6.59596154e-01, 4.04298331e-01, 8.37066881e-01,\n",
       "         9.34382125e-01, 8.41640640e-01, 2.65845824e-01, 4.36084648e-01,\n",
       "         8.93752978e-01, 7.03605478e-01],\n",
       "        [5.78656594e-01, 3.14251081e-01, 1.61756100e-01, 2.32941381e-02,\n",
       "         8.86773509e-01, 8.81608848e-01, 5.31389459e-01, 8.01284777e-01,\n",
       "         8.92269616e-02, 3.04520866e-01],\n",
       "        [3.10418855e-01, 9.71295738e-02, 8.75814123e-01, 5.63063706e-01,\n",
       "         7.30600056e-01, 5.38574083e-02, 1.16197615e-01, 5.68127339e-01,\n",
       "         4.15465818e-01, 7.03617048e-01],\n",
       "        [7.43824330e-01, 4.61359156e-01, 1.31093435e-01, 5.03602240e-01,\n",
       "         5.20920683e-01, 3.87083054e-01, 2.39667470e-01, 3.79904580e-03,\n",
       "         9.37969773e-01, 1.57221307e-01],\n",
       "        [6.75080517e-02, 3.04824301e-01, 4.34129920e-01, 9.50276640e-01,\n",
       "         5.41191437e-01, 8.32790163e-01, 1.24896521e-01, 7.07692366e-01,\n",
       "         5.84402512e-01, 9.34330627e-01],\n",
       "        [6.89052097e-01, 8.51409333e-01, 1.02847060e-01, 9.50228349e-01,\n",
       "         1.59743796e-01, 5.35353267e-01, 7.95197227e-01, 3.09584710e-01,\n",
       "         9.16006732e-01, 5.96220476e-01],\n",
       "        [8.36796559e-01, 7.78425981e-01, 7.85352785e-01, 1.44993562e-01,\n",
       "         2.14195837e-02, 2.72579434e-01, 7.89153400e-04, 7.80432937e-01,\n",
       "         5.11947376e-01, 5.81705147e-01],\n",
       "        [4.62570040e-01, 9.39836343e-01, 5.51684196e-02, 1.15031292e-02,\n",
       "         3.52053923e-01, 9.28152460e-01, 5.22470616e-03, 1.49238729e-03,\n",
       "         2.74800996e-01, 7.69967813e-01],\n",
       "        [3.15709256e-01, 6.50422566e-02, 7.46554664e-01, 9.00441250e-01,\n",
       "         3.18167617e-01, 5.85019542e-01, 4.59235276e-01, 5.90981110e-02,\n",
       "         3.94075027e-01, 8.89802206e-01],\n",
       "        [7.54836398e-01, 7.61842255e-01, 8.10019100e-01, 5.18554660e-01,\n",
       "         6.67950493e-01, 2.15992050e-01, 1.41166219e-01, 3.34818710e-01,\n",
       "         4.25914302e-01, 9.54941306e-01],\n",
       "        [7.65973469e-01, 6.89302073e-01, 4.12611261e-01, 5.93594087e-01,\n",
       "         2.45877993e-01, 1.70476430e-01, 9.57253162e-01, 4.43402260e-01,\n",
       "         9.21047422e-01, 5.96102908e-01],\n",
       "        [2.87018962e-03, 8.32842712e-01, 4.06124272e-01, 2.61449367e-01,\n",
       "         8.06126365e-02, 2.17122898e-01, 6.86640424e-01, 8.27774518e-01,\n",
       "         1.27703672e-01, 7.98906222e-01],\n",
       "        [1.86989344e-01, 3.18918955e-01, 4.94235265e-01, 4.79887424e-01,\n",
       "         6.30317773e-01, 9.18168001e-01, 4.75014607e-01, 2.90885271e-02,\n",
       "         3.66496545e-01, 1.06301708e-01],\n",
       "        [7.29463550e-01, 5.31089573e-01, 3.88651865e-01, 4.77836394e-01,\n",
       "         8.71984584e-01, 9.50816094e-01, 7.22369332e-01, 9.95389813e-02,\n",
       "         7.70250002e-01, 5.85009596e-01],\n",
       "        [7.14256962e-01, 9.44079221e-01, 3.13467214e-01, 7.69783630e-01,\n",
       "         7.90247027e-01, 9.44670018e-01, 3.06100419e-01, 3.51946149e-01,\n",
       "         8.36062687e-01, 1.71029128e-01],\n",
       "        [6.17276322e-01, 5.03903407e-01, 1.04024163e-01, 7.67405012e-01,\n",
       "         7.57737110e-01, 2.86014700e-01, 1.07389125e-01, 8.74367804e-01,\n",
       "         6.44620693e-01, 8.34863820e-01],\n",
       "        [2.27125564e-01, 5.14100828e-01, 1.64252361e-01, 3.70728713e-01,\n",
       "         1.35322834e-01, 9.32225080e-01, 7.14128410e-01, 4.24301148e-01,\n",
       "         6.35844094e-02, 3.99424370e-01],\n",
       "        [2.12562493e-01, 1.40803186e-01, 5.45103242e-02, 8.26811010e-01,\n",
       "         7.92091364e-01, 3.13156442e-01, 7.28220515e-01, 9.09123473e-01,\n",
       "         4.82924341e-02, 4.85276366e-01],\n",
       "        [8.73868094e-01, 5.01786811e-01, 6.24418438e-01, 3.83604611e-01,\n",
       "         4.63657622e-01, 2.31650360e-01, 4.28350822e-01, 1.35419588e-01,\n",
       "         2.94327904e-01, 7.75837053e-02]]),\n",
       " array([0, 1, 0, 0, 0, 1, 1, 1, 1, 1, 1, 0, 1, 1, 0, 1, 1, 1, 0, 0, 0, 0,\n",
       "        0, 1, 1, 1, 1, 1, 0, 1, 0, 0]))"
      ]
     },
     "execution_count": 29,
     "metadata": {},
     "output_type": "execute_result"
    }
   ],
   "source": [
    "next(testX)"
   ]
  },
  {
   "cell_type": "code",
   "execution_count": null,
   "metadata": {},
   "outputs": [],
   "source": []
  }
 ],
 "metadata": {
  "kernelspec": {
   "display_name": "VisionTransport",
   "language": "python",
   "name": "python3"
  },
  "language_info": {
   "codemirror_mode": {
    "name": "ipython",
    "version": 3
   },
   "file_extension": ".py",
   "mimetype": "text/x-python",
   "name": "python",
   "nbconvert_exporter": "python",
   "pygments_lexer": "ipython3",
   "version": "3.10.9"
  }
 },
 "nbformat": 4,
 "nbformat_minor": 2
}
